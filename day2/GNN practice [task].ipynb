{
  "cells": [
    {
      "cell_type": "markdown",
      "metadata": {
        "id": "iUHs-VRUhS0R"
      },
      "source": [
        "Your goal in this notebook would be predict formation energy of organic molecules from the [QM9 dataset](http://quantum-machine.org/datasets/). We begin with a simple GCNN and gradually build more complex models.\n",
        "\n",
        "The notebook uses the [pytorch documnetation](https://pytorch-geometric.readthedocs.io/en/latest/notes/introduction.html) the [pytorch-geometric example](https://github.com/pyg-team/pytorch_geometric/blob/master/examples/qm9_nn_conv.py).\n",
        "\n",
        "The notebook runs reasonably fast both on CPU and GPU. You will want GPU for the bonus task."
      ]
    },
    {
      "cell_type": "code",
      "execution_count": 32,
      "metadata": {
        "id": "g2_F2jT7jeLg",
        "colab": {
          "base_uri": "https://localhost:8080/"
        },
        "outputId": "f87a6fb7-ea80-42cd-ee2c-7ad6d7072c17"
      },
      "outputs": [
        {
          "output_type": "stream",
          "name": "stdout",
          "text": [
            "2.0.0+cu118\n",
            "  Installing build dependencies ... \u001b[?25l\u001b[?25hdone\n",
            "  Getting requirements to build wheel ... \u001b[?25l\u001b[?25hdone\n",
            "  Preparing metadata (pyproject.toml) ... \u001b[?25l\u001b[?25hdone\n"
          ]
        }
      ],
      "source": [
        "# Install the required packages\n",
        "# A failure here probably means that Colab environment has changed\n",
        "# You can grab the latest config from one of the Colab notebooks here:\n",
        "# https://pytorch-geometric.readthedocs.io/en/latest/notes/colabs.html\n",
        "import os\n",
        "import torch\n",
        "os.environ['TORCH'] = torch.__version__\n",
        "print(torch.__version__)\n",
        "!pip install -q torch-scatter -f https://data.pyg.org/whl/torch-${TORCH}.html\n",
        "!pip install -q torch-sparse -f https://data.pyg.org/whl/torch-${TORCH}.html\n",
        "!pip install -q git+https://github.com/pyg-team/pytorch_geometric.git"
      ]
    },
    {
      "cell_type": "code",
      "execution_count": 33,
      "metadata": {
        "colab": {
          "base_uri": "https://localhost:8080/"
        },
        "id": "2lEteA-StF0w",
        "outputId": "7f59303a-ddba-4d5d-f350-f88ac0690b62"
      },
      "outputs": [
        {
          "output_type": "stream",
          "name": "stdout",
          "text": [
            "Reading package lists... Done\n",
            "Building dependency tree       \n",
            "Reading state information... Done\n",
            "libgraphviz-dev is already the newest version (2.42.2-3build2).\n",
            "0 upgraded, 0 newly installed, 0 to remove and 24 not upgraded.\n",
            "Looking in indexes: https://pypi.org/simple, https://us-python.pkg.dev/colab-wheels/public/simple/\n",
            "Requirement already satisfied: pygraphviz in /usr/local/lib/python3.9/dist-packages (1.10)\n"
          ]
        }
      ],
      "source": [
        "!apt install libgraphviz-dev\n",
        "!pip install pygraphviz"
      ]
    },
    {
      "cell_type": "code",
      "execution_count": 34,
      "metadata": {
        "id": "EzAmPd3MnW7f"
      },
      "outputs": [],
      "source": [
        "import pathlib\n",
        "\n",
        "import torch\n",
        "import torch.nn.functional as F\n",
        "from torch.nn import Linear, ReLU, Sequential\n",
        "import networkx as nx\n",
        "\n",
        "import torch_geometric\n",
        "import torch_geometric.transforms as T\n",
        "from torch_geometric.datasets import QM9\n",
        "from torch_geometric.loader import DataLoader\n",
        "from torch_geometric.nn import NNConv, Set2Set, GCNConv\n",
        "from torch_geometric.utils import remove_self_loops, to_networkx\n",
        "\n",
        "import matplotlib.pyplot as plt\n",
        "from IPython.display import Image\n",
        "from tqdm.auto import trange"
      ]
    },
    {
      "cell_type": "code",
      "execution_count": 49,
      "metadata": {
        "id": "boAK-89blULY"
      },
      "outputs": [],
      "source": [
        "# The column in y contains the formation energy. Other columns are described here:\n",
        "# https://pytorch-geometric.readthedocs.io/en/latest/_modules/torch_geometric/datasets/qm9.html\n",
        "TARGET_Y = 10\n",
        "\n",
        "class SelectTarget(object):\n",
        "    def __init__(self, target_column: int):\n",
        "        self.target_column = target_column\n",
        "\n",
        "    def __call__(self, data: torch.Tensor) -> torch.Tensor:\n",
        "        data.y = data.y[:, self.target_column]\n",
        "        return data"
      ]
    },
    {
      "cell_type": "code",
      "execution_count": 50,
      "metadata": {
        "id": "ovKmZmkUvXkk"
      },
      "outputs": [],
      "source": [
        "def draw_graph(graph: torch_geometric.data.data.Data) -> Image:\n",
        "    \"\"\"\n",
        "    Plots a molecule from QM9 dataset. Node labels are atomic numbers.\n",
        "    Edge lengths and node positions are arbitrary.\n",
        "    \"\"\"\n",
        "    graph_nx = to_networkx(graph,\n",
        "                           to_undirected=True)\n",
        "    graph_graphviz = nx.nx_agraph.to_agraph(graph_nx)\n",
        "    for node, type_ in zip(graph_graphviz.iternodes(), graph.z.detach().numpy()):\n",
        "        node.attr['label'] = str(type_)\n",
        "    return Image(graph_graphviz.draw(format='png', prog=\"neato\"))"
      ]
    },
    {
      "cell_type": "markdown",
      "metadata": {
        "id": "yVIGtTdhqW3y"
      },
      "source": [
        "Load the QM9 dataset"
      ]
    },
    {
      "cell_type": "code",
      "execution_count": 51,
      "metadata": {
        "id": "_MSWDb7lncJa"
      },
      "outputs": [],
      "source": [
        "dataset_path = pathlib.Path('data', 'QM9')\n",
        "# We use \"raw\" prefix as we'll later reload the dataset\n",
        "# with the preprocessing steps included\n",
        "raw_dataset = QM9(dataset_path)"
      ]
    },
    {
      "cell_type": "code",
      "execution_count": 52,
      "metadata": {
        "colab": {
          "base_uri": "https://localhost:8080/",
          "height": 253
        },
        "id": "JI_3doofnoo6",
        "outputId": "2617108e-7119-4012-ac55-5c33971276c9"
      },
      "outputs": [
        {
          "output_type": "execute_result",
          "data": {
            "image/png": "[encoded data removed]",
            "text/plain": [
              "<IPython.core.display.Image object>"
            ]
          },
          "metadata": {},
          "execution_count": 52
        }
      ],
      "source": [
        "draw_graph(raw_dataset[0])"
      ]
    },
    {
      "cell_type": "markdown",
      "metadata": {
        "id": "RPma-q6arZ4v"
      },
      "source": [
        "Data Handling of Graphs\n",
        "-----------------------\n",
        "\n",
        "A graph is used to model pairwise relations (edges) between objects (nodes).\n",
        "A single graph in PyG is described by an instance of `torch_geometric.data.Data`, which holds the following attributes by default:\n",
        "\n",
        "- `data.x`: Node feature matrix with shape `[num_nodes, num_node_features]`\n",
        "- `data.edge_index`: Graph connectivity in COO format with shape `[2, num_edges]` and type `torch.long`\n",
        "- `data.edge_attr`: Edge feature matrix with shape `[num_edges, num_edge_features]`\n",
        "- `data.y`: Target to train against (may have arbitrary shape), *e.g.*, node-level targets of shape `[num_nodes, *]` or graph-level targets of shape `[1, *]`\n",
        "- `data.pos`: Node position matrix with shape `[num_nodes, num_dimensions]`\n",
        "\n",
        "None of these attributes are required.\n",
        "In fact, the `~torch_geometric.data.Data` object is not even restricted to these attributes.\n",
        "We can, *e.g.*, extend it by `data.face` to save the connectivity of triangles from a 3D mesh in a tensor with shape `[3, num_faces]` and type `torch.long`.\n",
        "\n",
        "Note:\n",
        "    PyTorch and `torchvision` define an example as a tuple of an image and a target.\n",
        "    We omit this notation in PyG to allow for various data structures in a clean and understandable way.\n",
        "\n",
        "Let's see the first molecule we have loaded:"
      ]
    },
    {
      "cell_type": "code",
      "execution_count": 53,
      "metadata": {
        "id": "z0cE8rn1ue4m",
        "colab": {
          "base_uri": "https://localhost:8080/"
        },
        "outputId": "213dcf7f-09ee-4318-9416-8acf3571dd10"
      },
      "outputs": [
        {
          "output_type": "execute_result",
          "data": {
            "text/plain": [
              "tensor([[0., 1., 0., 0., 0., 6., 0., 0., 0., 0., 4.],\n",
              "        [1., 0., 0., 0., 0., 1., 0., 0., 0., 0., 0.],\n",
              "        [1., 0., 0., 0., 0., 1., 0., 0., 0., 0., 0.],\n",
              "        [1., 0., 0., 0., 0., 1., 0., 0., 0., 0., 0.],\n",
              "        [1., 0., 0., 0., 0., 1., 0., 0., 0., 0., 0.]])"
            ]
          },
          "metadata": {},
          "execution_count": 53
        }
      ],
      "source": [
        "raw_dataset[0].x # this is information about the atom. The [0:7] encodes information of the position of the nodes. The rest are characteristic of the atom (aromacy etc)"
      ]
    },
    {
      "cell_type": "markdown",
      "metadata": {
        "id": "mbeIc_3ovxyK"
      },
      "source": [
        "In QM9 the `x` attribute contains the atom features from the [Neural Message Passing for Quantum Chemistry](https://arxiv.org/abs/1704.01212) paper. `[0:7]`  contain one-hot encoded atom types, `7` is the atomic number, `8` is boolean indicator whether the atom is [aromatic](https://rdkit.readthedocs.io/en/latest/RDKit_Book.html), `[9:12]` conain one-hot encoded [hybridization type](https://www.rdkit.org/docs/Cookbook.html#hybridization-type-and-count)."
      ]
    },
    {
      "cell_type": "code",
      "execution_count": 54,
      "metadata": {
        "id": "4zybfkitvu7U",
        "colab": {
          "base_uri": "https://localhost:8080/"
        },
        "outputId": "c7fcb39e-868f-4775-a151-a3c1be22474f"
      },
      "outputs": [
        {
          "output_type": "execute_result",
          "data": {
            "text/plain": [
              "tensor([[0, 0, 0, 0, 1, 2, 3, 4],\n",
              "        [1, 2, 3, 4, 0, 0, 0, 0]])"
            ]
          },
          "metadata": {},
          "execution_count": 54
        }
      ],
      "source": [
        "raw_dataset[0].edge_index # array that stores t"
      ]
    },
    {
      "cell_type": "markdown",
      "metadata": {
        "id": "AtfQZFMw70U9"
      },
      "source": [
        "Node 0 is connected to each other node with a bi-directional edge"
      ]
    },
    {
      "cell_type": "code",
      "execution_count": 55,
      "metadata": {
        "colab": {
          "base_uri": "https://localhost:8080/"
        },
        "id": "F-Q7s3YQxuKw",
        "outputId": "e4d9a268-5f5e-4137-e0f6-f975575401c5"
      },
      "outputs": [
        {
          "output_type": "execute_result",
          "data": {
            "text/plain": [
              "tensor([[1., 0., 0., 0.],\n",
              "        [1., 0., 0., 0.],\n",
              "        [1., 0., 0., 0.],\n",
              "        [1., 0., 0., 0.],\n",
              "        [1., 0., 0., 0.],\n",
              "        [1., 0., 0., 0.],\n",
              "        [1., 0., 0., 0.],\n",
              "        [1., 0., 0., 0.]])"
            ]
          },
          "metadata": {},
          "execution_count": 55
        }
      ],
      "source": [
        "raw_dataset[0].edge_attr"
      ]
    },
    {
      "cell_type": "markdown",
      "metadata": {
        "id": "yrBWD4E_82IV"
      },
      "source": [
        "Edge attributes contain one-hot-encoded [bond types](https://www.rdkit.org/docs/cppapi/classRDKit_1_1Bond.html#a2c93af0aeb3297ee77b6afdc27b68d6f)."
      ]
    },
    {
      "cell_type": "code",
      "execution_count": 56,
      "metadata": {
        "colab": {
          "base_uri": "https://localhost:8080/"
        },
        "id": "GEOnml7NrxYz",
        "outputId": "d379b5a3-a6c3-4205-ae22-4c99be892a51"
      },
      "outputs": [
        {
          "output_type": "execute_result",
          "data": {
            "text/plain": [
              "tensor([[    0.0000,    13.2100,   -10.5499,     3.1865,    13.7363,    35.3641,\n",
              "             1.2177, -1101.4878, -1101.4098, -1101.3840, -1102.0229,     6.4690,\n",
              "           -17.1722,   -17.2868,   -17.3897,   -16.1519,   157.7118,   157.7100,\n",
              "           157.7070]])"
            ]
          },
          "metadata": {},
          "execution_count": 56
        }
      ],
      "source": [
        "raw_dataset[0].y # these are the targets"
      ]
    },
    {
      "cell_type": "markdown",
      "metadata": {
        "id": "VcVr7nS49ARo"
      },
      "source": [
        "`y` contains [molecular properties](https://pytorch-geometric.readthedocs.io/en/latest/_modules/torch_geometric/datasets/qm9.html). We are intereseted in No. `7` -- the formation energy."
      ]
    },
    {
      "cell_type": "code",
      "execution_count": 57,
      "metadata": {
        "colab": {
          "base_uri": "https://localhost:8080/"
        },
        "id": "gI0GumBe97s-",
        "outputId": "0934c4de-dd98-4e16-8df5-71659a26d2c0"
      },
      "outputs": [
        {
          "output_type": "execute_result",
          "data": {
            "text/plain": [
              "tensor([[-1.2700e-02,  1.0858e+00,  8.0000e-03],\n",
              "        [ 2.2000e-03, -6.0000e-03,  2.0000e-03],\n",
              "        [ 1.0117e+00,  1.4638e+00,  3.0000e-04],\n",
              "        [-5.4080e-01,  1.4475e+00, -8.7660e-01],\n",
              "        [-5.2380e-01,  1.4379e+00,  9.0640e-01]])"
            ]
          },
          "metadata": {},
          "execution_count": 57
        }
      ],
      "source": [
        "raw_dataset[0].pos"
      ]
    },
    {
      "cell_type": "code",
      "execution_count": 58,
      "metadata": {
        "colab": {
          "base_uri": "https://localhost:8080/",
          "height": 415
        },
        "id": "Lm0heLXV99vj",
        "outputId": "c74009e1-f4aa-4255-af4b-b38fce73b212"
      },
      "outputs": [
        {
          "output_type": "display_data",
          "data": {
            "text/plain": [
              "<Figure size 640x480 with 1 Axes>"
            ],
            "image/png": "[encoded data removed]"
          },
          "metadata": {}
        }
      ],
      "source": [
        "fig = plt.figure()\n",
        "ax = plt.axes(projection='3d')\n",
        "ax.scatter(*raw_dataset[0].pos.T);"
      ]
    },
    {
      "cell_type": "markdown",
      "metadata": {
        "id": "ws0v2UdL-t7T"
      },
      "source": [
        "`pos` contains the spatial coordinates of the atoms."
      ]
    },
    {
      "cell_type": "code",
      "execution_count": 59,
      "metadata": {
        "colab": {
          "base_uri": "https://localhost:8080/"
        },
        "id": "QVJeO3Dur27n",
        "outputId": "f671a854-c69c-4d91-f5f7-236f8714062d"
      },
      "outputs": [
        {
          "output_type": "execute_result",
          "data": {
            "text/plain": [
              "tensor([6, 1, 1, 1, 1])"
            ]
          },
          "metadata": {},
          "execution_count": 59
        }
      ],
      "source": [
        "raw_dataset[0].z"
      ]
    },
    {
      "cell_type": "markdown",
      "metadata": {
        "id": "PzAK-PMlsA92"
      },
      "source": [
        "`z` is not mentioned in the general graph format descrition, it is an extra attribute of this particular dataset. It contains the atomic numbers. So our molecule is $\\text{CH}_4$."
      ]
    },
    {
      "cell_type": "markdown",
      "metadata": {
        "id": "h6j88qcw_3mt"
      },
      "source": [
        "# Training a GCNN\n",
        "Define a transformation of the input data. `SelectTarget` selects the target column and `torch_geometric.transforms.Distance` appends Euclidean distance between `pos` vectors to the edge attributes."
      ]
    },
    {
      "cell_type": "code",
      "execution_count": 60,
      "metadata": {
        "id": "46t9rlu-joQ_"
      },
      "outputs": [],
      "source": [
        "transform = T.Compose([SelectTarget(TARGET_Y), T.Distance(norm=False)]) # # without SelectTarget im using all y columns\n",
        "torch.manual_seed(42)\n",
        "dataset = QM9(dataset_path, transform=transform).shuffle()\n",
        "\n",
        "# Normalize targets to mean = 0 and std = 1.\n",
        "mean = dataset.data.y.mean(dim=0, keepdim=True)\n",
        "std = dataset.data.y.std(dim=0, keepdim=True)\n",
        "dataset.data.y = (dataset.data.y - mean) / std\n",
        "mean, std = mean[:, TARGET_Y].item(), std[:, TARGET_Y].item()\n",
        "\n",
        "# Split datasets.\n",
        "test_dataset = dataset[:10000]\n",
        "val_dataset = dataset[10000:20000]\n",
        "train_dataset = dataset[20000:40000]\n",
        "\n",
        "# Create pytorch objects for handling the data\n",
        "test_loader = DataLoader(test_dataset, batch_size=128, shuffle=False)\n",
        "val_loader = DataLoader(val_dataset, batch_size=128, shuffle=False)\n",
        "train_loader = DataLoader(train_dataset, batch_size=128, shuffle=True)"
      ]
    },
    {
      "cell_type": "code",
      "execution_count": 61,
      "metadata": {
        "id": "uqV9IUCyUrqa"
      },
      "outputs": [],
      "source": [
        "class SlimeNet(torch.nn.Module):\n",
        "    \"\"\"\n",
        "    A base bones graph convolutional neural network for molecules.\n",
        "    If consists of a linear transofrmation of the nodes' features\n",
        "    followed by a single graph convolution operation, a set2set transformation,\n",
        "    a hidden layer, and an output layer.\n",
        "    \"\"\"\n",
        "\n",
        "    def __init__(self, hidden_dim: int):\n",
        "        \"\"\"\n",
        "        Args:\n",
        "            hidden_dim: the number of units used in the hidden layers\n",
        "        \"\"\"\n",
        "        super().__init__()\n",
        "        self.lin0 = torch.nn.Linear(dataset.num_features, hidden_dim)\n",
        "        self.conv = GCNConv(hidden_dim, hidden_dim)\n",
        "        self.set2set = Set2Set(hidden_dim, processing_steps=1)\n",
        "        self.lin1 = torch.nn.Linear(2 * hidden_dim, hidden_dim)\n",
        "        self.lin2 = torch.nn.Linear(hidden_dim, 1)\n",
        "\n",
        "    def forward(self, data: torch_geometric.data.Data) -> torch_geometric.data.Data:\n",
        "        # Nothing special, just a sequece of transformations\n",
        "        # But pay attention to the API signatures of the graph layers\n",
        "        # Apply a linear layer+ReLu to the featues of each node independenly\n",
        "        out = F.relu(self.lin0(data.x))\n",
        "        # Apply a graph convolution\n",
        "        out = F.relu(self.conv(out, data.edge_index))\n",
        "        # Apply a Set2Set pooling operation from\n",
        "        # \"Order Matters: Sequence to sequence for sets\"\n",
        "        # https://arxiv.org/abs/1511.06391 paper\n",
        "        out = self.set2set(out, data.batch)\n",
        "        # And a classic fully-connected head\n",
        "        out = F.relu(self.lin1(out))\n",
        "        out = self.lin2(out)\n",
        "        return out.view(-1)"
      ]
    },
    {
      "cell_type": "markdown",
      "metadata": {
        "id": "EM_PZVVimDCS"
      },
      "source": [
        "Now is the time for training our network. In the interest of speed we take only a smal part of the training data and small NN. It should finish in <100 seconds both on CPU and GPU."
      ]
    },
    {
      "cell_type": "code",
      "execution_count": 62,
      "metadata": {
        "id": "A06mZJnunDMg"
      },
      "outputs": [],
      "source": [
        "device = torch.device('cuda' if torch.cuda.is_available() else 'cpu')\n",
        "def evaluate_model(model: torch.nn.Module,\n",
        "                   epochs: int = 5):\n",
        "    \"\"\"\n",
        "    A counvinience routine for evaluating predictive models for our subset of QM9\n",
        "    \"\"\"\n",
        "    model = model.to(device)\n",
        "    optimizer = torch.optim.Adam(model.parameters(), lr=0.01)\n",
        "    scheduler = torch.optim.lr_scheduler.ReduceLROnPlateau(optimizer, mode='min',\n",
        "                                                           factor=0.7, patience=5,\n",
        "                                                           min_lr=0.00001)\n",
        "\n",
        "    def train(epoch):\n",
        "        model.train()\n",
        "        loss_all = 0\n",
        "\n",
        "        for data in train_loader:\n",
        "            data = data.to(device)\n",
        "            optimizer.zero_grad()\n",
        "            loss = F.mse_loss(model(data), data.y)\n",
        "            loss.backward()\n",
        "            loss_all += loss.item() * data.num_graphs\n",
        "            optimizer.step()\n",
        "        return loss_all / len(train_loader.dataset)\n",
        "\n",
        "\n",
        "    def test(loader):\n",
        "        model.eval()\n",
        "        error = 0\n",
        "\n",
        "        for data in loader:\n",
        "            data = data.to(device)\n",
        "            error += (model(data) * std - data.y * std).abs().sum().item()  # MAE\n",
        "        return error / len(loader.dataset)\n",
        "\n",
        "\n",
        "    best_val_error = None\n",
        "    for epoch in trange(epochs):\n",
        "        lr = scheduler.optimizer.param_groups[0]['lr']\n",
        "        loss = train(epoch)\n",
        "        val_error = test(val_loader)\n",
        "        scheduler.step(val_error)\n",
        "\n",
        "        if best_val_error is None or val_error <= best_val_error:\n",
        "            test_error = test(test_loader)\n",
        "            best_val_error = val_error\n",
        "\n",
        "        print(f'Epoch: {epoch:03d}, LR: {lr:7f}, Loss: {loss:.7f}, '\n",
        "              f'Val MAE: {val_error:.7f}, Test MAE: {test_error:.7f}')"
      ]
    },
    {
      "cell_type": "markdown",
      "source": [
        "Let's evaluate our simple NN with hidden dimensionalit 16 and 32. We don't train to saturation to save your time, but the wider network shoud sltill slightly outperform the narrower one."
      ],
      "metadata": {
        "id": "68AFNYbrvkhK"
      }
    },
    {
      "cell_type": "code",
      "execution_count": 63,
      "metadata": {
        "colab": {
          "base_uri": "https://localhost:8080/",
          "height": 134,
          "referenced_widgets": [
            "cf6df7296851466aa792bb6e22133cc5",
            "82506fe568c0426cbc299f5b36ce7be4",
            "79013b46162e4330a995ffc08cb069f0",
            "5ba5f36f9bfe46f9a08f366e7e0fced4",
            "78e127763c0e40be9cf9fbe12c249cac",
            "f1418b848fb84acd91f78fc5751f22b5",
            "f18a917b9ce644afae20684ae614240b",
            "6a0b10f6462644fe9de21b8b08578518",
            "1117151e98514d5fb4a6dab31f133490",
            "a9a83e7a07374207b9d1fc970f2398c9",
            "e926ff7ef051412e8eb33b939e2d8e9a"
          ]
        },
        "id": "G62KK7dvoL_s",
        "outputId": "cd4209f7-a449-48c6-b944-99f6ac7362d4"
      },
      "outputs": [
        {
          "output_type": "display_data",
          "data": {
            "text/plain": [
              "  0%|          | 0/5 [00:00<?, ?it/s]"
            ],
            "application/vnd.jupyter.widget-view+json": {
              "version_major": 2,
              "version_minor": 0,
              "model_id": "cf6df7296851466aa792bb6e22133cc5"
            }
          },
          "metadata": {}
        },
        {
          "output_type": "stream",
          "name": "stdout",
          "text": [
            "Epoch: 000, LR: 0.010000, Loss: 0.5630262, Val MAE: 395.8580875, Test MAE: 404.8306707\n",
            "Epoch: 001, LR: 0.010000, Loss: 0.3994131, Val MAE: 358.6392164, Test MAE: 369.8160559\n",
            "Epoch: 002, LR: 0.010000, Loss: 0.3829379, Val MAE: 367.4166237, Test MAE: 369.8160559\n",
            "Epoch: 003, LR: 0.010000, Loss: 0.3773483, Val MAE: 378.5692215, Test MAE: 369.8160559\n",
            "Epoch: 004, LR: 0.010000, Loss: 0.3835517, Val MAE: 400.3440362, Test MAE: 369.8160559\n"
          ]
        }
      ],
      "source": [
        "evaluate_model(SlimeNet(16))"
      ]
    },
    {
      "cell_type": "code",
      "execution_count": 19,
      "metadata": {
        "colab": {
          "referenced_widgets": [
            "46fcf66d05164c51b5f1b221146730ab",
            "a8b8741fe5d1464b81d8797f70593a85",
            "0c3f5407a08241638e81aaf746f291e5",
            "1c05c4e94d9b40f8a32014ee928141f5",
            "938cc40ba2f14d9e9230502616db0e27",
            "c80b379770b04114930b81a736a2230d",
            "41d4121aaa824b52a2ba0b6807c1e522",
            "a8c56f49a23a45eea381cdbbffbb836a",
            "eedab68ea41a44ae8abd467b4c6758e2",
            "85c7c6c5726d4e0385a620e86f7be682",
            "600bd0e94eb04f6a810fcca77b65f215"
          ],
          "base_uri": "https://localhost:8080/",
          "height": 304
        },
        "id": "vfsQs1CYoNcn",
        "outputId": "3ffd7e71-de50-4392-b3d2-de65174dfc53"
      },
      "outputs": [
        {
          "output_type": "display_data",
          "data": {
            "text/plain": [
              "  0%|          | 0/15 [00:00<?, ?it/s]"
            ],
            "application/vnd.jupyter.widget-view+json": {
              "version_major": 2,
              "version_minor": 0,
              "model_id": "46fcf66d05164c51b5f1b221146730ab"
            }
          },
          "metadata": {}
        },
        {
          "output_type": "stream",
          "name": "stdout",
          "text": [
            "Epoch: 000, LR: 0.001000, Loss: 0.8836413, Val MAE: 668.9182972, Test MAE: 677.8357701\n",
            "Epoch: 001, LR: 0.001000, Loss: 0.5293412, Val MAE: 475.3916548, Test MAE: 486.8953740\n",
            "Epoch: 002, LR: 0.001000, Loss: 0.4269356, Val MAE: 456.2681403, Test MAE: 467.2451110\n",
            "Epoch: 003, LR: 0.001000, Loss: 0.3952314, Val MAE: 385.5657213, Test MAE: 397.0922924\n",
            "Epoch: 004, LR: 0.001000, Loss: 0.3840457, Val MAE: 394.4691075, Test MAE: 397.0922924\n",
            "Epoch: 005, LR: 0.001000, Loss: 0.3777316, Val MAE: 418.5295100, Test MAE: 397.0922924\n",
            "Epoch: 006, LR: 0.001000, Loss: 0.3742994, Val MAE: 514.6010342, Test MAE: 397.0922924\n",
            "Epoch: 007, LR: 0.001000, Loss: 0.3774633, Val MAE: 357.7788240, Test MAE: 369.2934509\n",
            "Epoch: 008, LR: 0.001000, Loss: 0.3741268, Val MAE: 406.4528706, Test MAE: 369.2934509\n",
            "Epoch: 009, LR: 0.001000, Loss: 0.3701319, Val MAE: 496.0608139, Test MAE: 369.2934509\n",
            "Epoch: 010, LR: 0.001000, Loss: 0.3727469, Val MAE: 359.2011063, Test MAE: 369.2934509\n",
            "Epoch: 011, LR: 0.001000, Loss: 0.3694289, Val MAE: 407.3869993, Test MAE: 369.2934509\n",
            "Epoch: 012, LR: 0.001000, Loss: 0.3688884, Val MAE: 410.4217385, Test MAE: 369.2934509\n",
            "Epoch: 013, LR: 0.001000, Loss: 0.3719910, Val MAE: 388.4770014, Test MAE: 369.2934509\n",
            "Epoch: 014, LR: 0.000700, Loss: 0.3665227, Val MAE: 438.1096723, Test MAE: 369.2934509\n"
          ]
        }
      ],
      "source": [
        "evaluate_model(SlimeNet(32))"
      ]
    },
    {
      "cell_type": "markdown",
      "metadata": {
        "id": "LYQX5_GDn7qG"
      },
      "source": [
        "**Task 1.** Now is the time for upgrading the model! Build and test a network like `SlimeNet`, but with 2 and 3 applications of the *same* convolutional layer. [1 point]"
      ]
    },
    {
      "cell_type": "code",
      "execution_count": 20,
      "metadata": {
        "id": "fibQrSEqoI0j"
      },
      "outputs": [],
      "source": [
        "class ConvNetSame(torch.nn.Module):\n",
        "    def __init__(self, hidden_dim: int, n_convs: int):\n",
        "        \"\"\"\n",
        "        Args:\n",
        "            hidden_dim: the number of units used in the hidden layers\n",
        "            n_convs: the number of applications of the GCNN layer\n",
        "        \"\"\"\n",
        "        super().__init__()\n",
        "        self.n_convs = n_convs\n",
        "        self.lin0 = torch.nn.Linear(dataset.num_features, hidden_dim)\n",
        "        self.conv = GCNConv(hidden_dim, hidden_dim)\n",
        "        self.set2set = Set2Set(hidden_dim, processing_steps=1)\n",
        "        self.lin1 = torch.nn.Linear(2 * hidden_dim, hidden_dim)\n",
        "        self.lin2 = torch.nn.Linear(hidden_dim, 1)\n",
        "\n",
        "    def forward(self, data: torch_geometric.data.Data) -> torch_geometric.data.Data:\n",
        "        out = F.relu(self.lin0(data.x))\n",
        "\n",
        "        # Remember, you need to pass the graph through the same\n",
        "        # layer n_convs times, like in a recurrent network\n",
        "        # Use ReLu activation\n",
        "        \n",
        "        ### YOUR CODE HERE\n",
        "        for i in range(self.n_convs):\n",
        "          out = F.relu(self.conv(out, data.edge_index))\n",
        "\n",
        "\n",
        "        out = self.set2set(out, data.batch)\n",
        "        out = F.relu(self.lin1(out))\n",
        "        out = self.lin2(out)\n",
        "        return out.view(-1)"
      ]
    },
    {
      "cell_type": "markdown",
      "source": [
        "Evaluate your model. It's [likely](https://pytorch.org/docs/stable/notes/randomness.html) that you should ovserve a slight improvement in quality."
      ],
      "metadata": {
        "id": "0BRc5hEex7_o"
      }
    },
    {
      "cell_type": "code",
      "execution_count": 21,
      "metadata": {
        "colab": {
          "referenced_widgets": [
            "6100d30a9ca84ae498416467ac2b45d2",
            "395c4509e8314f33a76613e26c077a9f",
            "98de014a63c14073b55b515f176bbb20",
            "b59a36cce1ba42009870a5ab5ed49860",
            "6e42acd01a4f42febf90e21ed69d04f2",
            "f98c8c79ae764e9e99cd821d9c270a2a",
            "ebd3e77d5ef747c195a02a8252b12d11",
            "8f10584eb51142d9be57856db893fa18",
            "db94e14498a94a5289d8ed2d0d5ac098",
            "1340150969ed41e0b94f94b33ce04fd2",
            "398fb1735b044fdb8cd3b95115711b09"
          ],
          "base_uri": "https://localhost:8080/",
          "height": 304
        },
        "id": "9xwTo3D3r2C1",
        "outputId": "9df16f5c-e045-459f-cb10-46454a9fccc8"
      },
      "outputs": [
        {
          "output_type": "display_data",
          "data": {
            "text/plain": [
              "  0%|          | 0/15 [00:00<?, ?it/s]"
            ],
            "application/vnd.jupyter.widget-view+json": {
              "version_major": 2,
              "version_minor": 0,
              "model_id": "6100d30a9ca84ae498416467ac2b45d2"
            }
          },
          "metadata": {}
        },
        {
          "output_type": "stream",
          "name": "stdout",
          "text": [
            "Epoch: 000, LR: 0.001000, Loss: 0.8940414, Val MAE: 647.8607857, Test MAE: 658.8819731\n",
            "Epoch: 001, LR: 0.001000, Loss: 0.5541800, Val MAE: 516.7102201, Test MAE: 527.0413228\n",
            "Epoch: 002, LR: 0.001000, Loss: 0.4375853, Val MAE: 439.9688042, Test MAE: 449.8642126\n",
            "Epoch: 003, LR: 0.001000, Loss: 0.4019186, Val MAE: 389.9047870, Test MAE: 399.5477998\n",
            "Epoch: 004, LR: 0.001000, Loss: 0.3853412, Val MAE: 444.8211396, Test MAE: 399.5477998\n",
            "Epoch: 005, LR: 0.001000, Loss: 0.3754133, Val MAE: 490.8125305, Test MAE: 399.5477998\n",
            "Epoch: 006, LR: 0.001000, Loss: 0.3732671, Val MAE: 405.7042778, Test MAE: 399.5477998\n",
            "Epoch: 007, LR: 0.001000, Loss: 0.3701030, Val MAE: 416.6719370, Test MAE: 399.5477998\n",
            "Epoch: 008, LR: 0.001000, Loss: 0.3690733, Val MAE: 476.5480325, Test MAE: 399.5477998\n",
            "Epoch: 009, LR: 0.001000, Loss: 0.3710373, Val MAE: 425.0832030, Test MAE: 399.5477998\n",
            "Epoch: 010, LR: 0.000700, Loss: 0.3672249, Val MAE: 461.4400677, Test MAE: 399.5477998\n",
            "Epoch: 011, LR: 0.000700, Loss: 0.3677498, Val MAE: 474.3143783, Test MAE: 399.5477998\n",
            "Epoch: 012, LR: 0.000700, Loss: 0.3671597, Val MAE: 377.7140170, Test MAE: 386.6523043\n",
            "Epoch: 013, LR: 0.000700, Loss: 0.3665621, Val MAE: 447.2383823, Test MAE: 386.6523043\n",
            "Epoch: 014, LR: 0.000700, Loss: 0.3672716, Val MAE: 387.4451121, Test MAE: 386.6523043\n"
          ]
        }
      ],
      "source": [
        "evaluate_model(ConvNetSame(hidden_dim=16, n_convs=2))"
      ]
    },
    {
      "cell_type": "code",
      "execution_count": 22,
      "metadata": {
        "colab": {
          "referenced_widgets": [
            "83ac1b13ed65430684eb2c2a12277ed1",
            "25295feb85004931aee1224422fc1cbb",
            "7c38f5f902d14b4188d45ceaa252d1df",
            "bb13d43efd1549c2961805ce8f2589db",
            "8121c99d7b9040a7b475f7d26db48216",
            "c8ea4041dc904abab0159c6548f514dc",
            "1448a88c30fb4994abd6f17a515c6ace",
            "6007941be127426fbc2dc5e6cd5494b3",
            "851a293a5b594918b9cbc97fb758c92d",
            "80a9d438ef1b4ae99771ca54ed7c46ac",
            "9dcaf138c7b94867bb104e4ff026a709"
          ],
          "base_uri": "https://localhost:8080/",
          "height": 304
        },
        "id": "8pYi0QDjr6rS",
        "outputId": "e676a34f-70b0-40e6-b0b0-817135fa254d"
      },
      "outputs": [
        {
          "output_type": "display_data",
          "data": {
            "text/plain": [
              "  0%|          | 0/15 [00:00<?, ?it/s]"
            ],
            "application/vnd.jupyter.widget-view+json": {
              "version_major": 2,
              "version_minor": 0,
              "model_id": "83ac1b13ed65430684eb2c2a12277ed1"
            }
          },
          "metadata": {}
        },
        {
          "output_type": "stream",
          "name": "stdout",
          "text": [
            "Epoch: 000, LR: 0.001000, Loss: 0.9215444, Val MAE: 623.8724977, Test MAE: 634.2953854\n",
            "Epoch: 001, LR: 0.001000, Loss: 0.5305246, Val MAE: 488.7781422, Test MAE: 498.5094507\n",
            "Epoch: 002, LR: 0.001000, Loss: 0.4249897, Val MAE: 464.9447142, Test MAE: 473.8717247\n",
            "Epoch: 003, LR: 0.001000, Loss: 0.3971294, Val MAE: 404.3089205, Test MAE: 413.6078483\n",
            "Epoch: 004, LR: 0.001000, Loss: 0.3903968, Val MAE: 408.5900509, Test MAE: 413.6078483\n",
            "Epoch: 005, LR: 0.001000, Loss: 0.3836112, Val MAE: 407.6650215, Test MAE: 413.6078483\n",
            "Epoch: 006, LR: 0.001000, Loss: 0.3799146, Val MAE: 461.6111695, Test MAE: 413.6078483\n",
            "Epoch: 007, LR: 0.001000, Loss: 0.3783392, Val MAE: 361.5559386, Test MAE: 372.6878887\n",
            "Epoch: 008, LR: 0.001000, Loss: 0.3797482, Val MAE: 469.3019836, Test MAE: 372.6878887\n",
            "Epoch: 009, LR: 0.001000, Loss: 0.3753408, Val MAE: 455.5995397, Test MAE: 372.6878887\n",
            "Epoch: 010, LR: 0.001000, Loss: 0.3771406, Val MAE: 351.7969569, Test MAE: 363.5950070\n",
            "Epoch: 011, LR: 0.001000, Loss: 0.3758624, Val MAE: 432.1336806, Test MAE: 363.5950070\n",
            "Epoch: 012, LR: 0.001000, Loss: 0.3742220, Val MAE: 402.4849020, Test MAE: 363.5950070\n",
            "Epoch: 013, LR: 0.001000, Loss: 0.3751266, Val MAE: 419.8033310, Test MAE: 363.5950070\n",
            "Epoch: 014, LR: 0.001000, Loss: 0.3739992, Val MAE: 520.6005871, Test MAE: 363.5950070\n"
          ]
        }
      ],
      "source": [
        "evaluate_model(ConvNetSame(hidden_dim=16, n_convs=3))"
      ]
    },
    {
      "cell_type": "markdown",
      "metadata": {
        "id": "SFIrxILdznHk"
      },
      "source": [
        "**Task 2.** Build and test a network like `SlimeNet`, but with 2 separate convolutional layers. [1 point]"
      ]
    },
    {
      "cell_type": "code",
      "execution_count": 23,
      "metadata": {
        "id": "Cb88kXgNzg7S"
      },
      "outputs": [],
      "source": [
        "class Conv2Net(torch.nn.Module):\n",
        "    def __init__(self, hidden_dim: int):\n",
        "        \"\"\"\n",
        "        Args:\n",
        "            hidden_dim: the number of units used in the hidden layers\n",
        "        \"\"\"\n",
        "        super().__init__()\n",
        "        self.lin0 = torch.nn.Linear(dataset.num_features, hidden_dim)\n",
        "\n",
        "        # Define two layers. Remember, to have two layers with\n",
        "        # different \n",
        "\n",
        "        ### YOUR CODE HERE\n",
        "        self.conv0 = GCNConv(hidden_dim, hidden_dim)\n",
        "        self.conv1 = GCNConv(hidden_dim, hidden_dim)\n",
        "\n",
        "        self.set2set = Set2Set(hidden_dim, processing_steps=1)\n",
        "        self.lin1 = torch.nn.Linear(2 * hidden_dim, hidden_dim)\n",
        "        self.lin2 = torch.nn.Linear(hidden_dim, 1)\n",
        "\n",
        "    def forward(self, data: torch_geometric.data.Data) -> torch_geometric.data.Data:\n",
        "        out = F.relu(self.lin0(data.x))\n",
        "\n",
        "        # Apply the GCNN layers. Don't forget ReLu\n",
        "        \n",
        "        ### YOUR CODE HERE\n",
        "        out = F.relu(self.conv0(out, data.edge_index))\n",
        "        out = F.relu(self.conv1(out, data.edge_index))\n",
        "\n",
        "        out = self.set2set(out, data.batch)\n",
        "        out = F.relu(self.lin1(out))\n",
        "        out = self.lin2(out)\n",
        "        return out.view(-1)"
      ]
    },
    {
      "cell_type": "code",
      "execution_count": 24,
      "metadata": {
        "colab": {
          "referenced_widgets": [
            "e1248f738fe64ca08edce20460ad8001",
            "67e9b43e4bae4e38860867e8fe551e68",
            "62182d4d85a34405b7a05e9fd7253d84",
            "b5f106c5728a4813bc83db19cbfff438",
            "9b9359ab9a7f4b2ca7286cedeb2736be",
            "9e407c53ccfb42fbb57e07d5003fd438",
            "14bf7aa56f2e4e40a469b3969b0bc692",
            "5e67493a6e364041a9bc12409710726b",
            "d7051485e2794b1fadb02400f7bb407a",
            "ff34e026d71f4493a58be08aa3245963",
            "4bcd14e228e34ea6b8441a131f900185"
          ],
          "base_uri": "https://localhost:8080/",
          "height": 304
        },
        "id": "zN9i1WWGz62H",
        "outputId": "fb7ee344-6ecc-4ccf-ac67-c7ea89cf244f"
      },
      "outputs": [
        {
          "data": {
            "application/vnd.jupyter.widget-view+json": {
              "model_id": "e1248f738fe64ca08edce20460ad8001",
              "version_major": 2,
              "version_minor": 0
            },
            "text/plain": [
              "  0%|          | 0/15 [00:00<?, ?it/s]"
            ]
          },
          "metadata": {},
          "output_type": "display_data"
        },
        {
          "output_type": "stream",
          "name": "stdout",
          "text": [
            "Epoch: 000, LR: 0.001000, Loss: 0.9164342, Val MAE: 648.8570826, Test MAE: 659.3904606\n",
            "Epoch: 001, LR: 0.001000, Loss: 0.5555551, Val MAE: 480.6351265, Test MAE: 489.5100347\n",
            "Epoch: 002, LR: 0.001000, Loss: 0.4374248, Val MAE: 468.9224905, Test MAE: 478.5932118\n",
            "Epoch: 003, LR: 0.001000, Loss: 0.4111953, Val MAE: 468.2647829, Test MAE: 477.8224624\n",
            "Epoch: 004, LR: 0.001000, Loss: 0.3964312, Val MAE: 400.6363614, Test MAE: 410.4639775\n",
            "Epoch: 005, LR: 0.001000, Loss: 0.3896268, Val MAE: 429.9117454, Test MAE: 410.4639775\n",
            "Epoch: 006, LR: 0.001000, Loss: 0.3858446, Val MAE: 411.6773785, Test MAE: 410.4639775\n",
            "Epoch: 007, LR: 0.001000, Loss: 0.3816277, Val MAE: 455.4806098, Test MAE: 410.4639775\n",
            "Epoch: 008, LR: 0.001000, Loss: 0.3782912, Val MAE: 441.4583108, Test MAE: 410.4639775\n",
            "Epoch: 009, LR: 0.001000, Loss: 0.3770020, Val MAE: 356.9647587, Test MAE: 368.0465016\n",
            "Epoch: 010, LR: 0.001000, Loss: 0.3790850, Val MAE: 449.4222753, Test MAE: 368.0465016\n",
            "Epoch: 011, LR: 0.001000, Loss: 0.3740113, Val MAE: 422.5667745, Test MAE: 368.0465016\n",
            "Epoch: 012, LR: 0.001000, Loss: 0.3748182, Val MAE: 466.9879222, Test MAE: 368.0465016\n",
            "Epoch: 013, LR: 0.001000, Loss: 0.3745427, Val MAE: 424.8000139, Test MAE: 368.0465016\n",
            "Epoch: 014, LR: 0.001000, Loss: 0.3733881, Val MAE: 429.7332843, Test MAE: 368.0465016\n"
          ]
        }
      ],
      "source": [
        "evaluate_model(Conv2Net(hidden_dim=16))"
      ]
    },
    {
      "cell_type": "markdown",
      "metadata": {
        "id": "yORSz4KhEzpR"
      },
      "source": [
        "The final and most diffucult task is to create a model that would use the continuous kernel-based convolutional operator from the \"[Neural Message Passing for Quantum Chemistry](https://arxiv.org/abs/1704.01212)\" paper. It's implemented in pytorch-geometric as `NNConv` and the documentation is available [here](https://pytorch-geometric.readthedocs.io/en/latest/modules/nn.html#torch_geometric.nn.conv.NNConv), [2 points]."
      ]
    },
    {
      "cell_type": "code",
      "execution_count": 64,
      "metadata": {
        "id": "DBq77dG4Cn-A"
      },
      "outputs": [],
      "source": [
        "class PaperNet(torch.nn.Module):\n",
        "    def __init__(self, hidden_dim: int, n_convs: int):\n",
        "        \"\"\"\n",
        "        Args:\n",
        "            hidden_dim: the number of units used in the hidden layers\n",
        "            n_convs: the number of applications of the GCNN layer\n",
        "        \"\"\"\n",
        "        super().__init__()\n",
        "        self.n_convs = n_convs\n",
        "        self.lin0 = torch.nn.Linear(dataset.num_features, hidden_dim)\n",
        "\n",
        "        # Define the NNConv layer and the fully-connected nerual network\n",
        "        # inside it. The suggested structure for the FCN is\n",
        "        # Linear(5, hidden_dim*2)\n",
        "        # ReLu activation\n",
        "        # Linear(hidden_dim*2, hidden_dim * hidden_dim)\n",
        "        \n",
        "        ### YOUR CODE HERE\n",
        "        self.lin_in = torch.nn.Sequential(\n",
        "            torch.nn.Linear(5, hidden_dim*2),\n",
        "            torch.nn.ReLU(),\n",
        "            torch.nn.Linear(hidden_dim*2, hidden_dim*hidden_dim)\n",
        "        )\n",
        "        self.NNConv = NNConv(in_channels = hidden_dim, out_channels = hidden_dim, nn = self.lin_in)\n",
        "\n",
        "        self.set2set = Set2Set(hidden_dim, processing_steps=1)\n",
        "        self.lin1 = torch.nn.Linear(2 * hidden_dim, hidden_dim)\n",
        "        self.lin2 = torch.nn.Linear(hidden_dim, 1)\n",
        "\n",
        "    def forward(self, data: torch_geometric.data.Data) -> torch_geometric.data.Data:\n",
        "        out = F.relu(self.lin0(data.x))\n",
        "        # Pass the graph through the same NNConv\n",
        "        # layer n_convs times, like in a recurrent network\n",
        "        # Use ReLu activation\n",
        "\n",
        "        ### YOUR CODE HERE\n",
        "        for i in range(self.n_convs):\n",
        "          out = F.relu(self.NNConv(out, data.edge_index, data.edge_attr))\n",
        "        \n",
        "        out = self.set2set(out, data.batch)\n",
        "        out = F.relu(self.lin1(out))\n",
        "        out = self.lin2(out)\n",
        "        return out.view(-1)"
      ]
    },
    {
      "cell_type": "markdown",
      "source": [
        "Note that we use a very simplified configuration for evaluation in order to make it quick, so it's not guranteed that our more complex model would have better performance."
      ],
      "metadata": {
        "id": "zMoSnvpacFL3"
      }
    },
    {
      "cell_type": "code",
      "execution_count": 28,
      "metadata": {
        "colab": {
          "base_uri": "https://localhost:8080/",
          "height": 304,
          "referenced_widgets": [
            "e69e56f342524368a4c0f3797ca8f627",
            "40d58e253ea949e784662bab468fecfa",
            "4230eebb8ebc4c709109955671cee86c",
            "a34b0feeaaee4648a2b24437c88c995d",
            "6797be32c5cc4699a7de3f7520de42da",
            "aa63f1e80ebd4d7e8782fc7f7906d00e",
            "1d9ca983de8048a6baf78595eb0e47ff",
            "e0ea433f29d34f5bbd7027784eaa89e2",
            "490a65feb2d3487d9c3ce40104c352da",
            "ed4f3311f8c747ec89e97a343cfd0dd0",
            "c857b6d92b644fcab3e4f2a9e065294d"
          ]
        },
        "id": "cMkohqRCXA-Z",
        "outputId": "78647390-bdbd-453f-8960-426837ea2696"
      },
      "outputs": [
        {
          "output_type": "display_data",
          "data": {
            "text/plain": [
              "  0%|          | 0/15 [00:00<?, ?it/s]"
            ],
            "application/vnd.jupyter.widget-view+json": {
              "version_major": 2,
              "version_minor": 0,
              "model_id": "e69e56f342524368a4c0f3797ca8f627"
            }
          },
          "metadata": {}
        },
        {
          "output_type": "stream",
          "name": "stdout",
          "text": [
            "Epoch: 000, LR: 0.001000, Loss: 0.6646226, Val MAE: 553.3399646, Test MAE: 557.4490141\n",
            "Epoch: 001, LR: 0.001000, Loss: 0.4315467, Val MAE: 435.0977070, Test MAE: 441.5552565\n",
            "Epoch: 002, LR: 0.001000, Loss: 0.4022798, Val MAE: 413.1372180, Test MAE: 419.7883405\n",
            "Epoch: 003, LR: 0.001000, Loss: 0.3905121, Val MAE: 441.2133819, Test MAE: 419.7883405\n",
            "Epoch: 004, LR: 0.001000, Loss: 0.3857435, Val MAE: 513.7428205, Test MAE: 419.7883405\n",
            "Epoch: 005, LR: 0.001000, Loss: 0.3762023, Val MAE: 372.7849234, Test MAE: 384.9154215\n",
            "Epoch: 006, LR: 0.001000, Loss: 0.3791853, Val MAE: 373.3867471, Test MAE: 384.9154215\n",
            "Epoch: 007, LR: 0.001000, Loss: 0.3738491, Val MAE: 494.0512870, Test MAE: 384.9154215\n",
            "Epoch: 008, LR: 0.001000, Loss: 0.3699672, Val MAE: 479.4336672, Test MAE: 384.9154215\n",
            "Epoch: 009, LR: 0.001000, Loss: 0.3658533, Val MAE: 415.3853641, Test MAE: 384.9154215\n",
            "Epoch: 010, LR: 0.001000, Loss: 0.3639161, Val MAE: 497.2334332, Test MAE: 384.9154215\n",
            "Epoch: 011, LR: 0.001000, Loss: 0.3685886, Val MAE: 419.4334634, Test MAE: 384.9154215\n",
            "Epoch: 012, LR: 0.000700, Loss: 0.3528316, Val MAE: 529.6348458, Test MAE: 384.9154215\n",
            "Epoch: 013, LR: 0.000700, Loss: 0.3547628, Val MAE: 440.2394101, Test MAE: 384.9154215\n",
            "Epoch: 014, LR: 0.000700, Loss: 0.3538171, Val MAE: 412.2579051, Test MAE: 384.9154215\n"
          ]
        }
      ],
      "source": [
        "evaluate_model(PaperNet(hidden_dim=32, n_convs=2))"
      ]
    },
    {
      "cell_type": "markdown",
      "metadata": {
        "id": "UVRPFOiLn7xd"
      },
      "source": [
        "**Bonus part**. Achieve test MAE score of 80. We don't gurantee it's possible in the timeframe allocated to the task, so brace yourself for a \"long\" 2-hour training. Feel free to use the whole dataset and more iterations for training. You might even want to use the complete graphs, where all atoms are connected to each other, not only the ones where there is a covalent bond. [3 points, not included in the total, but can substitute for ordinary tasks in achieveing the full total grade. 3 points for MAE <= 80, 2 points for MAE <= 120, 1 point for MAE <= 150]"
      ]
    },
    {
      "cell_type": "code",
      "source": [
        "evaluate_model(PaperNet(hidden_dim=32, n_convs=2), epochs = 100)"
      ],
      "metadata": {
        "id": "mjfYyiPHGlgs",
        "outputId": "7440608d-c0fa-4b2a-9e74-7121a0aa97ee",
        "colab": {
          "base_uri": "https://localhost:8080/",
          "height": 1000,
          "referenced_widgets": [
            "6e2578636ccb4c27978f7c54c103f9f0",
            "b09514d5ddb84941a2427c57f24a02c2",
            "93bd24a51b784153884f06c67c45ac0c",
            "19b66f4d9ace4250bf854e9dfa550005",
            "20499fc5ceb742bd959ce3d23f36469e",
            "45568a847fe5470b9f3a6a197f8702c1",
            "32177a252f37414f990cef040cbcade5",
            "5c5f68ab4ed44e53adaf2e0cabc59ac0",
            "33f28743975c4ac099525f591e390cab",
            "da4f701a500741debf7f2922eacfdd04",
            "842b7ca56b0d4c96af2374e5ad5764e6"
          ]
        }
      },
      "execution_count": 66,
      "outputs": [
        {
          "data": {
            "application/vnd.jupyter.widget-view+json": {
              "model_id": "6e2578636ccb4c27978f7c54c103f9f0",
              "version_major": 2,
              "version_minor": 0
            },
            "text/plain": [
              "  0%|          | 0/100 [00:00<?, ?it/s]"
            ]
          },
          "metadata": {},
          "output_type": "display_data"
        },
        {
          "output_type": "stream",
          "name": "stdout",
          "text": [
            "Epoch: 000, LR: 0.010000, Loss: 1.1788206, Val MAE: 642.4864293, Test MAE: 656.0200374\n",
            "Epoch: 001, LR: 0.010000, Loss: 0.5244116, Val MAE: 532.7721612, Test MAE: 540.3300659\n",
            "Epoch: 002, LR: 0.010000, Loss: 0.4217711, Val MAE: 414.4473865, Test MAE: 423.5337936\n",
            "Epoch: 003, LR: 0.010000, Loss: 0.4059158, Val MAE: 418.9495770, Test MAE: 423.5337936\n",
            "Epoch: 004, LR: 0.010000, Loss: 0.3858915, Val MAE: 481.6149534, Test MAE: 423.5337936\n",
            "Epoch: 005, LR: 0.010000, Loss: 0.3906687, Val MAE: 458.0201275, Test MAE: 423.5337936\n",
            "Epoch: 006, LR: 0.010000, Loss: 0.3795883, Val MAE: 438.3298045, Test MAE: 423.5337936\n",
            "Epoch: 007, LR: 0.010000, Loss: 0.3682376, Val MAE: 373.2627966, Test MAE: 383.6653892\n",
            "Epoch: 008, LR: 0.010000, Loss: 0.3713731, Val MAE: 448.3425035, Test MAE: 383.6653892\n",
            "Epoch: 009, LR: 0.010000, Loss: 0.3681317, Val MAE: 385.4744256, Test MAE: 383.6653892\n",
            "Epoch: 010, LR: 0.010000, Loss: 0.3777121, Val MAE: 434.6312081, Test MAE: 383.6653892\n",
            "Epoch: 011, LR: 0.010000, Loss: 0.3657941, Val MAE: 427.3898716, Test MAE: 383.6653892\n",
            "Epoch: 012, LR: 0.010000, Loss: 0.3612725, Val MAE: 537.8186639, Test MAE: 383.6653892\n",
            "Epoch: 013, LR: 0.010000, Loss: 0.3661898, Val MAE: 521.8613354, Test MAE: 383.6653892\n",
            "Epoch: 014, LR: 0.007000, Loss: 0.3598526, Val MAE: 355.2530521, Test MAE: 365.9467265\n",
            "Epoch: 015, LR: 0.007000, Loss: 0.3548111, Val MAE: 373.6255788, Test MAE: 365.9467265\n",
            "Epoch: 016, LR: 0.007000, Loss: 0.3510062, Val MAE: 352.7532829, Test MAE: 361.5784466\n",
            "Epoch: 017, LR: 0.007000, Loss: 0.3513165, Val MAE: 379.6236086, Test MAE: 361.5784466\n",
            "Epoch: 018, LR: 0.007000, Loss: 0.3486664, Val MAE: 540.5454097, Test MAE: 361.5784466\n",
            "Epoch: 019, LR: 0.007000, Loss: 0.3501870, Val MAE: 527.8977028, Test MAE: 361.5784466\n",
            "Epoch: 020, LR: 0.007000, Loss: 0.3517254, Val MAE: 584.2171625, Test MAE: 361.5784466\n",
            "Epoch: 021, LR: 0.007000, Loss: 0.3522836, Val MAE: 439.2193974, Test MAE: 361.5784466\n",
            "Epoch: 022, LR: 0.007000, Loss: 0.3492157, Val MAE: 380.1849537, Test MAE: 361.5784466\n",
            "Epoch: 023, LR: 0.004900, Loss: 0.3448767, Val MAE: 414.8429837, Test MAE: 361.5784466\n",
            "Epoch: 024, LR: 0.004900, Loss: 0.3438056, Val MAE: 393.4185886, Test MAE: 361.5784466\n",
            "Epoch: 025, LR: 0.004900, Loss: 0.3425994, Val MAE: 430.0479164, Test MAE: 361.5784466\n",
            "Epoch: 026, LR: 0.004900, Loss: 0.3414550, Val MAE: 480.3016536, Test MAE: 361.5784466\n",
            "Epoch: 027, LR: 0.004900, Loss: 0.3425366, Val MAE: 417.1910951, Test MAE: 361.5784466\n",
            "Epoch: 028, LR: 0.004900, Loss: 0.3402381, Val MAE: 428.2245081, Test MAE: 361.5784466\n",
            "Epoch: 029, LR: 0.003430, Loss: 0.3335273, Val MAE: 472.2651021, Test MAE: 361.5784466\n",
            "Epoch: 030, LR: 0.003430, Loss: 0.3328633, Val MAE: 393.2219984, Test MAE: 361.5784466\n",
            "Epoch: 031, LR: 0.003430, Loss: 0.3330318, Val MAE: 399.5359282, Test MAE: 361.5784466\n",
            "Epoch: 032, LR: 0.003430, Loss: 0.3353659, Val MAE: 454.7351988, Test MAE: 361.5784466\n",
            "Epoch: 033, LR: 0.003430, Loss: 0.3337929, Val MAE: 433.5427595, Test MAE: 361.5784466\n",
            "Epoch: 034, LR: 0.003430, Loss: 0.3296667, Val MAE: 381.0857701, Test MAE: 361.5784466\n",
            "Epoch: 035, LR: 0.002401, Loss: 0.3273847, Val MAE: 393.1991846, Test MAE: 361.5784466\n",
            "Epoch: 036, LR: 0.002401, Loss: 0.3254106, Val MAE: 394.9024291, Test MAE: 361.5784466\n",
            "Epoch: 037, LR: 0.002401, Loss: 0.3222562, Val MAE: 425.8968023, Test MAE: 361.5784466\n",
            "Epoch: 038, LR: 0.002401, Loss: 0.3229771, Val MAE: 412.0909370, Test MAE: 361.5784466\n",
            "Epoch: 039, LR: 0.002401, Loss: 0.3215130, Val MAE: 434.6453146, Test MAE: 361.5784466\n",
            "Epoch: 040, LR: 0.002401, Loss: 0.3184272, Val MAE: 404.2340779, Test MAE: 361.5784466\n",
            "Epoch: 041, LR: 0.001681, Loss: 0.3135560, Val MAE: 405.0828562, Test MAE: 361.5784466\n",
            "Epoch: 042, LR: 0.001681, Loss: 0.3147889, Val MAE: 424.7204208, Test MAE: 361.5784466\n",
            "Epoch: 043, LR: 0.001681, Loss: 0.3120956, Val MAE: 356.0941261, Test MAE: 361.5784466\n",
            "Epoch: 044, LR: 0.001681, Loss: 0.3108702, Val MAE: 395.1121905, Test MAE: 361.5784466\n",
            "Epoch: 045, LR: 0.001681, Loss: 0.3097335, Val MAE: 378.2255318, Test MAE: 361.5784466\n",
            "Epoch: 046, LR: 0.001681, Loss: 0.3094054, Val MAE: 411.1379104, Test MAE: 361.5784466\n",
            "Epoch: 047, LR: 0.001176, Loss: 0.3051603, Val MAE: 392.0561753, Test MAE: 361.5784466\n",
            "Epoch: 048, LR: 0.001176, Loss: 0.3036625, Val MAE: 361.0556237, Test MAE: 361.5784466\n",
            "Epoch: 049, LR: 0.001176, Loss: 0.3031566, Val MAE: 398.5826208, Test MAE: 361.5784466\n",
            "Epoch: 050, LR: 0.001176, Loss: 0.3026092, Val MAE: 428.0479409, Test MAE: 361.5784466\n",
            "Epoch: 051, LR: 0.001176, Loss: 0.3038868, Val MAE: 384.6840999, Test MAE: 361.5784466\n",
            "Epoch: 052, LR: 0.001176, Loss: 0.3015652, Val MAE: 395.1868479, Test MAE: 361.5784466\n",
            "Epoch: 053, LR: 0.000824, Loss: 0.2978971, Val MAE: 390.0100851, Test MAE: 361.5784466\n",
            "Epoch: 054, LR: 0.000824, Loss: 0.2976752, Val MAE: 387.0311551, Test MAE: 361.5784466\n",
            "Epoch: 055, LR: 0.000824, Loss: 0.2964962, Val MAE: 386.6197899, Test MAE: 361.5784466\n",
            "Epoch: 056, LR: 0.000824, Loss: 0.2970826, Val MAE: 399.4418372, Test MAE: 361.5784466\n",
            "Epoch: 057, LR: 0.000824, Loss: 0.2967413, Val MAE: 393.4683841, Test MAE: 361.5784466\n",
            "Epoch: 058, LR: 0.000824, Loss: 0.2969846, Val MAE: 392.6544137, Test MAE: 361.5784466\n",
            "Epoch: 059, LR: 0.000576, Loss: 0.2950608, Val MAE: 398.3082348, Test MAE: 361.5784466\n",
            "Epoch: 060, LR: 0.000576, Loss: 0.2938200, Val MAE: 388.9101746, Test MAE: 361.5784466\n",
            "Epoch: 061, LR: 0.000576, Loss: 0.2930447, Val MAE: 387.6328581, Test MAE: 361.5784466\n",
            "Epoch: 062, LR: 0.000576, Loss: 0.2934702, Val MAE: 395.5249400, Test MAE: 361.5784466\n",
            "Epoch: 063, LR: 0.000576, Loss: 0.2932053, Val MAE: 360.8439896, Test MAE: 361.5784466\n",
            "Epoch: 064, LR: 0.000576, Loss: 0.2924460, Val MAE: 368.4634413, Test MAE: 361.5784466\n",
            "Epoch: 065, LR: 0.000404, Loss: 0.2911048, Val MAE: 382.1571547, Test MAE: 361.5784466\n",
            "Epoch: 066, LR: 0.000404, Loss: 0.2904726, Val MAE: 377.8753098, Test MAE: 361.5784466\n",
            "Epoch: 067, LR: 0.000404, Loss: 0.2902541, Val MAE: 410.8492868, Test MAE: 361.5784466\n",
            "Epoch: 068, LR: 0.000404, Loss: 0.2899967, Val MAE: 414.6296637, Test MAE: 361.5784466\n",
            "Epoch: 069, LR: 0.000404, Loss: 0.2902328, Val MAE: 408.8355110, Test MAE: 361.5784466\n",
            "Epoch: 070, LR: 0.000404, Loss: 0.2903306, Val MAE: 413.2999187, Test MAE: 361.5784466\n",
            "Epoch: 071, LR: 0.000282, Loss: 0.2898636, Val MAE: 382.2542762, Test MAE: 361.5784466\n",
            "Epoch: 072, LR: 0.000282, Loss: 0.2884432, Val MAE: 424.3669785, Test MAE: 361.5784466\n",
            "Epoch: 073, LR: 0.000282, Loss: 0.2881515, Val MAE: 416.8753962, Test MAE: 361.5784466\n",
            "Epoch: 074, LR: 0.000282, Loss: 0.2883846, Val MAE: 376.4948914, Test MAE: 361.5784466\n",
            "Epoch: 075, LR: 0.000282, Loss: 0.2878362, Val MAE: 390.5491173, Test MAE: 361.5784466\n",
            "Epoch: 076, LR: 0.000282, Loss: 0.2882149, Val MAE: 409.3763719, Test MAE: 361.5784466\n",
            "Epoch: 077, LR: 0.000198, Loss: 0.2871947, Val MAE: 386.6862139, Test MAE: 361.5784466\n",
            "Epoch: 078, LR: 0.000198, Loss: 0.2869285, Val MAE: 390.2391579, Test MAE: 361.5784466\n",
            "Epoch: 079, LR: 0.000198, Loss: 0.2873727, Val MAE: 383.4386148, Test MAE: 361.5784466\n",
            "Epoch: 080, LR: 0.000198, Loss: 0.2868286, Val MAE: 406.0227249, Test MAE: 361.5784466\n",
            "Epoch: 081, LR: 0.000198, Loss: 0.2864157, Val MAE: 393.3348112, Test MAE: 361.5784466\n",
            "Epoch: 082, LR: 0.000198, Loss: 0.2864073, Val MAE: 371.8699714, Test MAE: 361.5784466\n",
            "Epoch: 083, LR: 0.000138, Loss: 0.2860076, Val MAE: 394.0744183, Test MAE: 361.5784466\n",
            "Epoch: 084, LR: 0.000138, Loss: 0.2856744, Val MAE: 402.8789703, Test MAE: 361.5784466\n",
            "Epoch: 085, LR: 0.000138, Loss: 0.2857304, Val MAE: 391.2078411, Test MAE: 361.5784466\n",
            "Epoch: 086, LR: 0.000138, Loss: 0.2856634, Val MAE: 383.1035623, Test MAE: 361.5784466\n",
            "Epoch: 087, LR: 0.000138, Loss: 0.2857289, Val MAE: 382.6126355, Test MAE: 361.5784466\n",
            "Epoch: 088, LR: 0.000138, Loss: 0.2853558, Val MAE: 386.0605045, Test MAE: 361.5784466\n",
            "Epoch: 089, LR: 0.000097, Loss: 0.2851437, Val MAE: 388.4860493, Test MAE: 361.5784466\n",
            "Epoch: 090, LR: 0.000097, Loss: 0.2849884, Val MAE: 384.5292561, Test MAE: 361.5784466\n",
            "Epoch: 091, LR: 0.000097, Loss: 0.2847695, Val MAE: 375.1562235, Test MAE: 361.5784466\n",
            "Epoch: 092, LR: 0.000097, Loss: 0.2848287, Val MAE: 384.8286547, Test MAE: 361.5784466\n",
            "Epoch: 093, LR: 0.000097, Loss: 0.2849957, Val MAE: 404.5687548, Test MAE: 361.5784466\n",
            "Epoch: 094, LR: 0.000097, Loss: 0.2849327, Val MAE: 391.3422112, Test MAE: 361.5784466\n",
            "Epoch: 095, LR: 0.000068, Loss: 0.2843235, Val MAE: 383.5270133, Test MAE: 361.5784466\n",
            "Epoch: 096, LR: 0.000068, Loss: 0.2845406, Val MAE: 392.8408170, Test MAE: 361.5784466\n",
            "Epoch: 097, LR: 0.000068, Loss: 0.2843277, Val MAE: 382.0997866, Test MAE: 361.5784466\n",
            "Epoch: 098, LR: 0.000068, Loss: 0.2844254, Val MAE: 388.2534465, Test MAE: 361.5784466\n",
            "Epoch: 099, LR: 0.000068, Loss: 0.2842575, Val MAE: 388.5759626, Test MAE: 361.5784466\n"
          ]
        }
      ]
    }
  ],
  "metadata": {
    "accelerator": "GPU",
    "colab": {
      "name": "GNN practice [task].ipynb",
      "provenance": []
    },
    "kernelspec": {
      "display_name": "Python 3",
      "name": "python3"
    },
    "language_info": {
      "name": "python"
    },
    "widgets": {
      "application/vnd.jupyter.widget-state+json": {
        "cf6df7296851466aa792bb6e22133cc5": {
          "model_module": "@jupyter-widgets/controls",
          "model_name": "HBoxModel",
          "model_module_version": "1.5.0",
          "state": {
            "_dom_classes": [],
            "_model_module": "@jupyter-widgets/controls",
            "_model_module_version": "1.5.0",
            "_model_name": "HBoxModel",
            "_view_count": null,
            "_view_module": "@jupyter-widgets/controls",
            "_view_module_version": "1.5.0",
            "_view_name": "HBoxView",
            "box_style": "",
            "children": [
              "IPY_MODEL_82506fe568c0426cbc299f5b36ce7be4",
              "IPY_MODEL_79013b46162e4330a995ffc08cb069f0",
              "IPY_MODEL_5ba5f36f9bfe46f9a08f366e7e0fced4"
            ],
            "layout": "IPY_MODEL_78e127763c0e40be9cf9fbe12c249cac"
          }
        },
        "82506fe568c0426cbc299f5b36ce7be4": {
          "model_module": "@jupyter-widgets/controls",
          "model_name": "HTMLModel",
          "model_module_version": "1.5.0",
          "state": {
            "_dom_classes": [],
            "_model_module": "@jupyter-widgets/controls",
            "_model_module_version": "1.5.0",
            "_model_name": "HTMLModel",
            "_view_count": null,
            "_view_module": "@jupyter-widgets/controls",
            "_view_module_version": "1.5.0",
            "_view_name": "HTMLView",
            "description": "",
            "description_tooltip": null,
            "layout": "IPY_MODEL_f1418b848fb84acd91f78fc5751f22b5",
            "placeholder": "​",
            "style": "IPY_MODEL_f18a917b9ce644afae20684ae614240b",
            "value": "100%"
          }
        },
        "79013b46162e4330a995ffc08cb069f0": {
          "model_module": "@jupyter-widgets/controls",
          "model_name": "FloatProgressModel",
          "model_module_version": "1.5.0",
          "state": {
            "_dom_classes": [],
            "_model_module": "@jupyter-widgets/controls",
            "_model_module_version": "1.5.0",
            "_model_name": "FloatProgressModel",
            "_view_count": null,
            "_view_module": "@jupyter-widgets/controls",
            "_view_module_version": "1.5.0",
            "_view_name": "ProgressView",
            "bar_style": "success",
            "description": "",
            "description_tooltip": null,
            "layout": "IPY_MODEL_6a0b10f6462644fe9de21b8b08578518",
            "max": 5,
            "min": 0,
            "orientation": "horizontal",
            "style": "IPY_MODEL_1117151e98514d5fb4a6dab31f133490",
            "value": 5
          }
        },
        "5ba5f36f9bfe46f9a08f366e7e0fced4": {
          "model_module": "@jupyter-widgets/controls",
          "model_name": "HTMLModel",
          "model_module_version": "1.5.0",
          "state": {
            "_dom_classes": [],
            "_model_module": "@jupyter-widgets/controls",
            "_model_module_version": "1.5.0",
            "_model_name": "HTMLModel",
            "_view_count": null,
            "_view_module": "@jupyter-widgets/controls",
            "_view_module_version": "1.5.0",
            "_view_name": "HTMLView",
            "description": "",
            "description_tooltip": null,
            "layout": "IPY_MODEL_a9a83e7a07374207b9d1fc970f2398c9",
            "placeholder": "​",
            "style": "IPY_MODEL_e926ff7ef051412e8eb33b939e2d8e9a",
            "value": " 5/5 [00:40&lt;00:00,  6.82s/it]"
          }
        },
        "78e127763c0e40be9cf9fbe12c249cac": {
          "model_module": "@jupyter-widgets/base",
          "model_name": "LayoutModel",
          "model_module_version": "1.2.0",
          "state": {
            "_model_module": "@jupyter-widgets/base",
            "_model_module_version": "1.2.0",
            "_model_name": "LayoutModel",
            "_view_count": null,
            "_view_module": "@jupyter-widgets/base",
            "_view_module_version": "1.2.0",
            "_view_name": "LayoutView",
            "align_content": null,
            "align_items": null,
            "align_self": null,
            "border": null,
            "bottom": null,
            "display": null,
            "flex": null,
            "flex_flow": null,
            "grid_area": null,
            "grid_auto_columns": null,
            "grid_auto_flow": null,
            "grid_auto_rows": null,
            "grid_column": null,
            "grid_gap": null,
            "grid_row": null,
            "grid_template_areas": null,
            "grid_template_columns": null,
            "grid_template_rows": null,
            "height": null,
            "justify_content": null,
            "justify_items": null,
            "left": null,
            "margin": null,
            "max_height": null,
            "max_width": null,
            "min_height": null,
            "min_width": null,
            "object_fit": null,
            "object_position": null,
            "order": null,
            "overflow": null,
            "overflow_x": null,
            "overflow_y": null,
            "padding": null,
            "right": null,
            "top": null,
            "visibility": null,
            "width": null
          }
        },
        "f1418b848fb84acd91f78fc5751f22b5": {
          "model_module": "@jupyter-widgets/base",
          "model_name": "LayoutModel",
          "model_module_version": "1.2.0",
          "state": {
            "_model_module": "@jupyter-widgets/base",
            "_model_module_version": "1.2.0",
            "_model_name": "LayoutModel",
            "_view_count": null,
            "_view_module": "@jupyter-widgets/base",
            "_view_module_version": "1.2.0",
            "_view_name": "LayoutView",
            "align_content": null,
            "align_items": null,
            "align_self": null,
            "border": null,
            "bottom": null,
            "display": null,
            "flex": null,
            "flex_flow": null,
            "grid_area": null,
            "grid_auto_columns": null,
            "grid_auto_flow": null,
            "grid_auto_rows": null,
            "grid_column": null,
            "grid_gap": null,
            "grid_row": null,
            "grid_template_areas": null,
            "grid_template_columns": null,
            "grid_template_rows": null,
            "height": null,
            "justify_content": null,
            "justify_items": null,
            "left": null,
            "margin": null,
            "max_height": null,
            "max_width": null,
            "min_height": null,
            "min_width": null,
            "object_fit": null,
            "object_position": null,
            "order": null,
            "overflow": null,
            "overflow_x": null,
            "overflow_y": null,
            "padding": null,
            "right": null,
            "top": null,
            "visibility": null,
            "width": null
          }
        },
        "f18a917b9ce644afae20684ae614240b": {
          "model_module": "@jupyter-widgets/controls",
          "model_name": "DescriptionStyleModel",
          "model_module_version": "1.5.0",
          "state": {
            "_model_module": "@jupyter-widgets/controls",
            "_model_module_version": "1.5.0",
            "_model_name": "DescriptionStyleModel",
            "_view_count": null,
            "_view_module": "@jupyter-widgets/base",
            "_view_module_version": "1.2.0",
            "_view_name": "StyleView",
            "description_width": ""
          }
        },
        "6a0b10f6462644fe9de21b8b08578518": {
          "model_module": "@jupyter-widgets/base",
          "model_name": "LayoutModel",
          "model_module_version": "1.2.0",
          "state": {
            "_model_module": "@jupyter-widgets/base",
            "_model_module_version": "1.2.0",
            "_model_name": "LayoutModel",
            "_view_count": null,
            "_view_module": "@jupyter-widgets/base",
            "_view_module_version": "1.2.0",
            "_view_name": "LayoutView",
            "align_content": null,
            "align_items": null,
            "align_self": null,
            "border": null,
            "bottom": null,
            "display": null,
            "flex": null,
            "flex_flow": null,
            "grid_area": null,
            "grid_auto_columns": null,
            "grid_auto_flow": null,
            "grid_auto_rows": null,
            "grid_column": null,
            "grid_gap": null,
            "grid_row": null,
            "grid_template_areas": null,
            "grid_template_columns": null,
            "grid_template_rows": null,
            "height": null,
            "justify_content": null,
            "justify_items": null,
            "left": null,
            "margin": null,
            "max_height": null,
            "max_width": null,
            "min_height": null,
            "min_width": null,
            "object_fit": null,
            "object_position": null,
            "order": null,
            "overflow": null,
            "overflow_x": null,
            "overflow_y": null,
            "padding": null,
            "right": null,
            "top": null,
            "visibility": null,
            "width": null
          }
        },
        "1117151e98514d5fb4a6dab31f133490": {
          "model_module": "@jupyter-widgets/controls",
          "model_name": "ProgressStyleModel",
          "model_module_version": "1.5.0",
          "state": {
            "_model_module": "@jupyter-widgets/controls",
            "_model_module_version": "1.5.0",
            "_model_name": "ProgressStyleModel",
            "_view_count": null,
            "_view_module": "@jupyter-widgets/base",
            "_view_module_version": "1.2.0",
            "_view_name": "StyleView",
            "bar_color": null,
            "description_width": ""
          }
        },
        "a9a83e7a07374207b9d1fc970f2398c9": {
          "model_module": "@jupyter-widgets/base",
          "model_name": "LayoutModel",
          "model_module_version": "1.2.0",
          "state": {
            "_model_module": "@jupyter-widgets/base",
            "_model_module_version": "1.2.0",
            "_model_name": "LayoutModel",
            "_view_count": null,
            "_view_module": "@jupyter-widgets/base",
            "_view_module_version": "1.2.0",
            "_view_name": "LayoutView",
            "align_content": null,
            "align_items": null,
            "align_self": null,
            "border": null,
            "bottom": null,
            "display": null,
            "flex": null,
            "flex_flow": null,
            "grid_area": null,
            "grid_auto_columns": null,
            "grid_auto_flow": null,
            "grid_auto_rows": null,
            "grid_column": null,
            "grid_gap": null,
            "grid_row": null,
            "grid_template_areas": null,
            "grid_template_columns": null,
            "grid_template_rows": null,
            "height": null,
            "justify_content": null,
            "justify_items": null,
            "left": null,
            "margin": null,
            "max_height": null,
            "max_width": null,
            "min_height": null,
            "min_width": null,
            "object_fit": null,
            "object_position": null,
            "order": null,
            "overflow": null,
            "overflow_x": null,
            "overflow_y": null,
            "padding": null,
            "right": null,
            "top": null,
            "visibility": null,
            "width": null
          }
        },
        "e926ff7ef051412e8eb33b939e2d8e9a": {
          "model_module": "@jupyter-widgets/controls",
          "model_name": "DescriptionStyleModel",
          "model_module_version": "1.5.0",
          "state": {
            "_model_module": "@jupyter-widgets/controls",
            "_model_module_version": "1.5.0",
            "_model_name": "DescriptionStyleModel",
            "_view_count": null,
            "_view_module": "@jupyter-widgets/base",
            "_view_module_version": "1.2.0",
            "_view_name": "StyleView",
            "description_width": ""
          }
        },
        "46fcf66d05164c51b5f1b221146730ab": {
          "model_module": "@jupyter-widgets/controls",
          "model_name": "HBoxModel",
          "model_module_version": "1.5.0",
          "state": {
            "_dom_classes": [],
            "_model_module": "@jupyter-widgets/controls",
            "_model_module_version": "1.5.0",
            "_model_name": "HBoxModel",
            "_view_count": null,
            "_view_module": "@jupyter-widgets/controls",
            "_view_module_version": "1.5.0",
            "_view_name": "HBoxView",
            "box_style": "",
            "children": [
              "IPY_MODEL_a8b8741fe5d1464b81d8797f70593a85",
              "IPY_MODEL_0c3f5407a08241638e81aaf746f291e5",
              "IPY_MODEL_1c05c4e94d9b40f8a32014ee928141f5"
            ],
            "layout": "IPY_MODEL_938cc40ba2f14d9e9230502616db0e27"
          }
        },
        "a8b8741fe5d1464b81d8797f70593a85": {
          "model_module": "@jupyter-widgets/controls",
          "model_name": "HTMLModel",
          "model_module_version": "1.5.0",
          "state": {
            "_dom_classes": [],
            "_model_module": "@jupyter-widgets/controls",
            "_model_module_version": "1.5.0",
            "_model_name": "HTMLModel",
            "_view_count": null,
            "_view_module": "@jupyter-widgets/controls",
            "_view_module_version": "1.5.0",
            "_view_name": "HTMLView",
            "description": "",
            "description_tooltip": null,
            "layout": "IPY_MODEL_c80b379770b04114930b81a736a2230d",
            "placeholder": "​",
            "style": "IPY_MODEL_41d4121aaa824b52a2ba0b6807c1e522",
            "value": "100%"
          }
        },
        "0c3f5407a08241638e81aaf746f291e5": {
          "model_module": "@jupyter-widgets/controls",
          "model_name": "FloatProgressModel",
          "model_module_version": "1.5.0",
          "state": {
            "_dom_classes": [],
            "_model_module": "@jupyter-widgets/controls",
            "_model_module_version": "1.5.0",
            "_model_name": "FloatProgressModel",
            "_view_count": null,
            "_view_module": "@jupyter-widgets/controls",
            "_view_module_version": "1.5.0",
            "_view_name": "ProgressView",
            "bar_style": "success",
            "description": "",
            "description_tooltip": null,
            "layout": "IPY_MODEL_a8c56f49a23a45eea381cdbbffbb836a",
            "max": 15,
            "min": 0,
            "orientation": "horizontal",
            "style": "IPY_MODEL_eedab68ea41a44ae8abd467b4c6758e2",
            "value": 15
          }
        },
        "1c05c4e94d9b40f8a32014ee928141f5": {
          "model_module": "@jupyter-widgets/controls",
          "model_name": "HTMLModel",
          "model_module_version": "1.5.0",
          "state": {
            "_dom_classes": [],
            "_model_module": "@jupyter-widgets/controls",
            "_model_module_version": "1.5.0",
            "_model_name": "HTMLModel",
            "_view_count": null,
            "_view_module": "@jupyter-widgets/controls",
            "_view_module_version": "1.5.0",
            "_view_name": "HTMLView",
            "description": "",
            "description_tooltip": null,
            "layout": "IPY_MODEL_85c7c6c5726d4e0385a620e86f7be682",
            "placeholder": "​",
            "style": "IPY_MODEL_600bd0e94eb04f6a810fcca77b65f215",
            "value": " 15/15 [01:39&lt;00:00,  6.11s/it]"
          }
        },
        "938cc40ba2f14d9e9230502616db0e27": {
          "model_module": "@jupyter-widgets/base",
          "model_name": "LayoutModel",
          "model_module_version": "1.2.0",
          "state": {
            "_model_module": "@jupyter-widgets/base",
            "_model_module_version": "1.2.0",
            "_model_name": "LayoutModel",
            "_view_count": null,
            "_view_module": "@jupyter-widgets/base",
            "_view_module_version": "1.2.0",
            "_view_name": "LayoutView",
            "align_content": null,
            "align_items": null,
            "align_self": null,
            "border": null,
            "bottom": null,
            "display": null,
            "flex": null,
            "flex_flow": null,
            "grid_area": null,
            "grid_auto_columns": null,
            "grid_auto_flow": null,
            "grid_auto_rows": null,
            "grid_column": null,
            "grid_gap": null,
            "grid_row": null,
            "grid_template_areas": null,
            "grid_template_columns": null,
            "grid_template_rows": null,
            "height": null,
            "justify_content": null,
            "justify_items": null,
            "left": null,
            "margin": null,
            "max_height": null,
            "max_width": null,
            "min_height": null,
            "min_width": null,
            "object_fit": null,
            "object_position": null,
            "order": null,
            "overflow": null,
            "overflow_x": null,
            "overflow_y": null,
            "padding": null,
            "right": null,
            "top": null,
            "visibility": null,
            "width": null
          }
        },
        "c80b379770b04114930b81a736a2230d": {
          "model_module": "@jupyter-widgets/base",
          "model_name": "LayoutModel",
          "model_module_version": "1.2.0",
          "state": {
            "_model_module": "@jupyter-widgets/base",
            "_model_module_version": "1.2.0",
            "_model_name": "LayoutModel",
            "_view_count": null,
            "_view_module": "@jupyter-widgets/base",
            "_view_module_version": "1.2.0",
            "_view_name": "LayoutView",
            "align_content": null,
            "align_items": null,
            "align_self": null,
            "border": null,
            "bottom": null,
            "display": null,
            "flex": null,
            "flex_flow": null,
            "grid_area": null,
            "grid_auto_columns": null,
            "grid_auto_flow": null,
            "grid_auto_rows": null,
            "grid_column": null,
            "grid_gap": null,
            "grid_row": null,
            "grid_template_areas": null,
            "grid_template_columns": null,
            "grid_template_rows": null,
            "height": null,
            "justify_content": null,
            "justify_items": null,
            "left": null,
            "margin": null,
            "max_height": null,
            "max_width": null,
            "min_height": null,
            "min_width": null,
            "object_fit": null,
            "object_position": null,
            "order": null,
            "overflow": null,
            "overflow_x": null,
            "overflow_y": null,
            "padding": null,
            "right": null,
            "top": null,
            "visibility": null,
            "width": null
          }
        },
        "41d4121aaa824b52a2ba0b6807c1e522": {
          "model_module": "@jupyter-widgets/controls",
          "model_name": "DescriptionStyleModel",
          "model_module_version": "1.5.0",
          "state": {
            "_model_module": "@jupyter-widgets/controls",
            "_model_module_version": "1.5.0",
            "_model_name": "DescriptionStyleModel",
            "_view_count": null,
            "_view_module": "@jupyter-widgets/base",
            "_view_module_version": "1.2.0",
            "_view_name": "StyleView",
            "description_width": ""
          }
        },
        "a8c56f49a23a45eea381cdbbffbb836a": {
          "model_module": "@jupyter-widgets/base",
          "model_name": "LayoutModel",
          "model_module_version": "1.2.0",
          "state": {
            "_model_module": "@jupyter-widgets/base",
            "_model_module_version": "1.2.0",
            "_model_name": "LayoutModel",
            "_view_count": null,
            "_view_module": "@jupyter-widgets/base",
            "_view_module_version": "1.2.0",
            "_view_name": "LayoutView",
            "align_content": null,
            "align_items": null,
            "align_self": null,
            "border": null,
            "bottom": null,
            "display": null,
            "flex": null,
            "flex_flow": null,
            "grid_area": null,
            "grid_auto_columns": null,
            "grid_auto_flow": null,
            "grid_auto_rows": null,
            "grid_column": null,
            "grid_gap": null,
            "grid_row": null,
            "grid_template_areas": null,
            "grid_template_columns": null,
            "grid_template_rows": null,
            "height": null,
            "justify_content": null,
            "justify_items": null,
            "left": null,
            "margin": null,
            "max_height": null,
            "max_width": null,
            "min_height": null,
            "min_width": null,
            "object_fit": null,
            "object_position": null,
            "order": null,
            "overflow": null,
            "overflow_x": null,
            "overflow_y": null,
            "padding": null,
            "right": null,
            "top": null,
            "visibility": null,
            "width": null
          }
        },
        "eedab68ea41a44ae8abd467b4c6758e2": {
          "model_module": "@jupyter-widgets/controls",
          "model_name": "ProgressStyleModel",
          "model_module_version": "1.5.0",
          "state": {
            "_model_module": "@jupyter-widgets/controls",
            "_model_module_version": "1.5.0",
            "_model_name": "ProgressStyleModel",
            "_view_count": null,
            "_view_module": "@jupyter-widgets/base",
            "_view_module_version": "1.2.0",
            "_view_name": "StyleView",
            "bar_color": null,
            "description_width": ""
          }
        },
        "85c7c6c5726d4e0385a620e86f7be682": {
          "model_module": "@jupyter-widgets/base",
          "model_name": "LayoutModel",
          "model_module_version": "1.2.0",
          "state": {
            "_model_module": "@jupyter-widgets/base",
            "_model_module_version": "1.2.0",
            "_model_name": "LayoutModel",
            "_view_count": null,
            "_view_module": "@jupyter-widgets/base",
            "_view_module_version": "1.2.0",
            "_view_name": "LayoutView",
            "align_content": null,
            "align_items": null,
            "align_self": null,
            "border": null,
            "bottom": null,
            "display": null,
            "flex": null,
            "flex_flow": null,
            "grid_area": null,
            "grid_auto_columns": null,
            "grid_auto_flow": null,
            "grid_auto_rows": null,
            "grid_column": null,
            "grid_gap": null,
            "grid_row": null,
            "grid_template_areas": null,
            "grid_template_columns": null,
            "grid_template_rows": null,
            "height": null,
            "justify_content": null,
            "justify_items": null,
            "left": null,
            "margin": null,
            "max_height": null,
            "max_width": null,
            "min_height": null,
            "min_width": null,
            "object_fit": null,
            "object_position": null,
            "order": null,
            "overflow": null,
            "overflow_x": null,
            "overflow_y": null,
            "padding": null,
            "right": null,
            "top": null,
            "visibility": null,
            "width": null
          }
        },
        "600bd0e94eb04f6a810fcca77b65f215": {
          "model_module": "@jupyter-widgets/controls",
          "model_name": "DescriptionStyleModel",
          "model_module_version": "1.5.0",
          "state": {
            "_model_module": "@jupyter-widgets/controls",
            "_model_module_version": "1.5.0",
            "_model_name": "DescriptionStyleModel",
            "_view_count": null,
            "_view_module": "@jupyter-widgets/base",
            "_view_module_version": "1.2.0",
            "_view_name": "StyleView",
            "description_width": ""
          }
        },
        "6100d30a9ca84ae498416467ac2b45d2": {
          "model_module": "@jupyter-widgets/controls",
          "model_name": "HBoxModel",
          "model_module_version": "1.5.0",
          "state": {
            "_dom_classes": [],
            "_model_module": "@jupyter-widgets/controls",
            "_model_module_version": "1.5.0",
            "_model_name": "HBoxModel",
            "_view_count": null,
            "_view_module": "@jupyter-widgets/controls",
            "_view_module_version": "1.5.0",
            "_view_name": "HBoxView",
            "box_style": "",
            "children": [
              "IPY_MODEL_395c4509e8314f33a76613e26c077a9f",
              "IPY_MODEL_98de014a63c14073b55b515f176bbb20",
              "IPY_MODEL_b59a36cce1ba42009870a5ab5ed49860"
            ],
            "layout": "IPY_MODEL_6e42acd01a4f42febf90e21ed69d04f2"
          }
        },
        "395c4509e8314f33a76613e26c077a9f": {
          "model_module": "@jupyter-widgets/controls",
          "model_name": "HTMLModel",
          "model_module_version": "1.5.0",
          "state": {
            "_dom_classes": [],
            "_model_module": "@jupyter-widgets/controls",
            "_model_module_version": "1.5.0",
            "_model_name": "HTMLModel",
            "_view_count": null,
            "_view_module": "@jupyter-widgets/controls",
            "_view_module_version": "1.5.0",
            "_view_name": "HTMLView",
            "description": "",
            "description_tooltip": null,
            "layout": "IPY_MODEL_f98c8c79ae764e9e99cd821d9c270a2a",
            "placeholder": "​",
            "style": "IPY_MODEL_ebd3e77d5ef747c195a02a8252b12d11",
            "value": "100%"
          }
        },
        "98de014a63c14073b55b515f176bbb20": {
          "model_module": "@jupyter-widgets/controls",
          "model_name": "FloatProgressModel",
          "model_module_version": "1.5.0",
          "state": {
            "_dom_classes": [],
            "_model_module": "@jupyter-widgets/controls",
            "_model_module_version": "1.5.0",
            "_model_name": "FloatProgressModel",
            "_view_count": null,
            "_view_module": "@jupyter-widgets/controls",
            "_view_module_version": "1.5.0",
            "_view_name": "ProgressView",
            "bar_style": "success",
            "description": "",
            "description_tooltip": null,
            "layout": "IPY_MODEL_8f10584eb51142d9be57856db893fa18",
            "max": 15,
            "min": 0,
            "orientation": "horizontal",
            "style": "IPY_MODEL_db94e14498a94a5289d8ed2d0d5ac098",
            "value": 15
          }
        },
        "b59a36cce1ba42009870a5ab5ed49860": {
          "model_module": "@jupyter-widgets/controls",
          "model_name": "HTMLModel",
          "model_module_version": "1.5.0",
          "state": {
            "_dom_classes": [],
            "_model_module": "@jupyter-widgets/controls",
            "_model_module_version": "1.5.0",
            "_model_name": "HTMLModel",
            "_view_count": null,
            "_view_module": "@jupyter-widgets/controls",
            "_view_module_version": "1.5.0",
            "_view_name": "HTMLView",
            "description": "",
            "description_tooltip": null,
            "layout": "IPY_MODEL_1340150969ed41e0b94f94b33ce04fd2",
            "placeholder": "​",
            "style": "IPY_MODEL_398fb1735b044fdb8cd3b95115711b09",
            "value": " 15/15 [01:42&lt;00:00,  6.36s/it]"
          }
        },
        "6e42acd01a4f42febf90e21ed69d04f2": {
          "model_module": "@jupyter-widgets/base",
          "model_name": "LayoutModel",
          "model_module_version": "1.2.0",
          "state": {
            "_model_module": "@jupyter-widgets/base",
            "_model_module_version": "1.2.0",
            "_model_name": "LayoutModel",
            "_view_count": null,
            "_view_module": "@jupyter-widgets/base",
            "_view_module_version": "1.2.0",
            "_view_name": "LayoutView",
            "align_content": null,
            "align_items": null,
            "align_self": null,
            "border": null,
            "bottom": null,
            "display": null,
            "flex": null,
            "flex_flow": null,
            "grid_area": null,
            "grid_auto_columns": null,
            "grid_auto_flow": null,
            "grid_auto_rows": null,
            "grid_column": null,
            "grid_gap": null,
            "grid_row": null,
            "grid_template_areas": null,
            "grid_template_columns": null,
            "grid_template_rows": null,
            "height": null,
            "justify_content": null,
            "justify_items": null,
            "left": null,
            "margin": null,
            "max_height": null,
            "max_width": null,
            "min_height": null,
            "min_width": null,
            "object_fit": null,
            "object_position": null,
            "order": null,
            "overflow": null,
            "overflow_x": null,
            "overflow_y": null,
            "padding": null,
            "right": null,
            "top": null,
            "visibility": null,
            "width": null
          }
        },
        "f98c8c79ae764e9e99cd821d9c270a2a": {
          "model_module": "@jupyter-widgets/base",
          "model_name": "LayoutModel",
          "model_module_version": "1.2.0",
          "state": {
            "_model_module": "@jupyter-widgets/base",
            "_model_module_version": "1.2.0",
            "_model_name": "LayoutModel",
            "_view_count": null,
            "_view_module": "@jupyter-widgets/base",
            "_view_module_version": "1.2.0",
            "_view_name": "LayoutView",
            "align_content": null,
            "align_items": null,
            "align_self": null,
            "border": null,
            "bottom": null,
            "display": null,
            "flex": null,
            "flex_flow": null,
            "grid_area": null,
            "grid_auto_columns": null,
            "grid_auto_flow": null,
            "grid_auto_rows": null,
            "grid_column": null,
            "grid_gap": null,
            "grid_row": null,
            "grid_template_areas": null,
            "grid_template_columns": null,
            "grid_template_rows": null,
            "height": null,
            "justify_content": null,
            "justify_items": null,
            "left": null,
            "margin": null,
            "max_height": null,
            "max_width": null,
            "min_height": null,
            "min_width": null,
            "object_fit": null,
            "object_position": null,
            "order": null,
            "overflow": null,
            "overflow_x": null,
            "overflow_y": null,
            "padding": null,
            "right": null,
            "top": null,
            "visibility": null,
            "width": null
          }
        },
        "ebd3e77d5ef747c195a02a8252b12d11": {
          "model_module": "@jupyter-widgets/controls",
          "model_name": "DescriptionStyleModel",
          "model_module_version": "1.5.0",
          "state": {
            "_model_module": "@jupyter-widgets/controls",
            "_model_module_version": "1.5.0",
            "_model_name": "DescriptionStyleModel",
            "_view_count": null,
            "_view_module": "@jupyter-widgets/base",
            "_view_module_version": "1.2.0",
            "_view_name": "StyleView",
            "description_width": ""
          }
        },
        "8f10584eb51142d9be57856db893fa18": {
          "model_module": "@jupyter-widgets/base",
          "model_name": "LayoutModel",
          "model_module_version": "1.2.0",
          "state": {
            "_model_module": "@jupyter-widgets/base",
            "_model_module_version": "1.2.0",
            "_model_name": "LayoutModel",
            "_view_count": null,
            "_view_module": "@jupyter-widgets/base",
            "_view_module_version": "1.2.0",
            "_view_name": "LayoutView",
            "align_content": null,
            "align_items": null,
            "align_self": null,
            "border": null,
            "bottom": null,
            "display": null,
            "flex": null,
            "flex_flow": null,
            "grid_area": null,
            "grid_auto_columns": null,
            "grid_auto_flow": null,
            "grid_auto_rows": null,
            "grid_column": null,
            "grid_gap": null,
            "grid_row": null,
            "grid_template_areas": null,
            "grid_template_columns": null,
            "grid_template_rows": null,
            "height": null,
            "justify_content": null,
            "justify_items": null,
            "left": null,
            "margin": null,
            "max_height": null,
            "max_width": null,
            "min_height": null,
            "min_width": null,
            "object_fit": null,
            "object_position": null,
            "order": null,
            "overflow": null,
            "overflow_x": null,
            "overflow_y": null,
            "padding": null,
            "right": null,
            "top": null,
            "visibility": null,
            "width": null
          }
        },
        "db94e14498a94a5289d8ed2d0d5ac098": {
          "model_module": "@jupyter-widgets/controls",
          "model_name": "ProgressStyleModel",
          "model_module_version": "1.5.0",
          "state": {
            "_model_module": "@jupyter-widgets/controls",
            "_model_module_version": "1.5.0",
            "_model_name": "ProgressStyleModel",
            "_view_count": null,
            "_view_module": "@jupyter-widgets/base",
            "_view_module_version": "1.2.0",
            "_view_name": "StyleView",
            "bar_color": null,
            "description_width": ""
          }
        },
        "1340150969ed41e0b94f94b33ce04fd2": {
          "model_module": "@jupyter-widgets/base",
          "model_name": "LayoutModel",
          "model_module_version": "1.2.0",
          "state": {
            "_model_module": "@jupyter-widgets/base",
            "_model_module_version": "1.2.0",
            "_model_name": "LayoutModel",
            "_view_count": null,
            "_view_module": "@jupyter-widgets/base",
            "_view_module_version": "1.2.0",
            "_view_name": "LayoutView",
            "align_content": null,
            "align_items": null,
            "align_self": null,
            "border": null,
            "bottom": null,
            "display": null,
            "flex": null,
            "flex_flow": null,
            "grid_area": null,
            "grid_auto_columns": null,
            "grid_auto_flow": null,
            "grid_auto_rows": null,
            "grid_column": null,
            "grid_gap": null,
            "grid_row": null,
            "grid_template_areas": null,
            "grid_template_columns": null,
            "grid_template_rows": null,
            "height": null,
            "justify_content": null,
            "justify_items": null,
            "left": null,
            "margin": null,
            "max_height": null,
            "max_width": null,
            "min_height": null,
            "min_width": null,
            "object_fit": null,
            "object_position": null,
            "order": null,
            "overflow": null,
            "overflow_x": null,
            "overflow_y": null,
            "padding": null,
            "right": null,
            "top": null,
            "visibility": null,
            "width": null
          }
        },
        "398fb1735b044fdb8cd3b95115711b09": {
          "model_module": "@jupyter-widgets/controls",
          "model_name": "DescriptionStyleModel",
          "model_module_version": "1.5.0",
          "state": {
            "_model_module": "@jupyter-widgets/controls",
            "_model_module_version": "1.5.0",
            "_model_name": "DescriptionStyleModel",
            "_view_count": null,
            "_view_module": "@jupyter-widgets/base",
            "_view_module_version": "1.2.0",
            "_view_name": "StyleView",
            "description_width": ""
          }
        },
        "83ac1b13ed65430684eb2c2a12277ed1": {
          "model_module": "@jupyter-widgets/controls",
          "model_name": "HBoxModel",
          "model_module_version": "1.5.0",
          "state": {
            "_dom_classes": [],
            "_model_module": "@jupyter-widgets/controls",
            "_model_module_version": "1.5.0",
            "_model_name": "HBoxModel",
            "_view_count": null,
            "_view_module": "@jupyter-widgets/controls",
            "_view_module_version": "1.5.0",
            "_view_name": "HBoxView",
            "box_style": "",
            "children": [
              "IPY_MODEL_25295feb85004931aee1224422fc1cbb",
              "IPY_MODEL_7c38f5f902d14b4188d45ceaa252d1df",
              "IPY_MODEL_bb13d43efd1549c2961805ce8f2589db"
            ],
            "layout": "IPY_MODEL_8121c99d7b9040a7b475f7d26db48216"
          }
        },
        "25295feb85004931aee1224422fc1cbb": {
          "model_module": "@jupyter-widgets/controls",
          "model_name": "HTMLModel",
          "model_module_version": "1.5.0",
          "state": {
            "_dom_classes": [],
            "_model_module": "@jupyter-widgets/controls",
            "_model_module_version": "1.5.0",
            "_model_name": "HTMLModel",
            "_view_count": null,
            "_view_module": "@jupyter-widgets/controls",
            "_view_module_version": "1.5.0",
            "_view_name": "HTMLView",
            "description": "",
            "description_tooltip": null,
            "layout": "IPY_MODEL_c8ea4041dc904abab0159c6548f514dc",
            "placeholder": "​",
            "style": "IPY_MODEL_1448a88c30fb4994abd6f17a515c6ace",
            "value": "100%"
          }
        },
        "7c38f5f902d14b4188d45ceaa252d1df": {
          "model_module": "@jupyter-widgets/controls",
          "model_name": "FloatProgressModel",
          "model_module_version": "1.5.0",
          "state": {
            "_dom_classes": [],
            "_model_module": "@jupyter-widgets/controls",
            "_model_module_version": "1.5.0",
            "_model_name": "FloatProgressModel",
            "_view_count": null,
            "_view_module": "@jupyter-widgets/controls",
            "_view_module_version": "1.5.0",
            "_view_name": "ProgressView",
            "bar_style": "success",
            "description": "",
            "description_tooltip": null,
            "layout": "IPY_MODEL_6007941be127426fbc2dc5e6cd5494b3",
            "max": 15,
            "min": 0,
            "orientation": "horizontal",
            "style": "IPY_MODEL_851a293a5b594918b9cbc97fb758c92d",
            "value": 15
          }
        },
        "bb13d43efd1549c2961805ce8f2589db": {
          "model_module": "@jupyter-widgets/controls",
          "model_name": "HTMLModel",
          "model_module_version": "1.5.0",
          "state": {
            "_dom_classes": [],
            "_model_module": "@jupyter-widgets/controls",
            "_model_module_version": "1.5.0",
            "_model_name": "HTMLModel",
            "_view_count": null,
            "_view_module": "@jupyter-widgets/controls",
            "_view_module_version": "1.5.0",
            "_view_name": "HTMLView",
            "description": "",
            "description_tooltip": null,
            "layout": "IPY_MODEL_80a9d438ef1b4ae99771ca54ed7c46ac",
            "placeholder": "​",
            "style": "IPY_MODEL_9dcaf138c7b94867bb104e4ff026a709",
            "value": " 15/15 [01:53&lt;00:00,  6.69s/it]"
          }
        },
        "8121c99d7b9040a7b475f7d26db48216": {
          "model_module": "@jupyter-widgets/base",
          "model_name": "LayoutModel",
          "model_module_version": "1.2.0",
          "state": {
            "_model_module": "@jupyter-widgets/base",
            "_model_module_version": "1.2.0",
            "_model_name": "LayoutModel",
            "_view_count": null,
            "_view_module": "@jupyter-widgets/base",
            "_view_module_version": "1.2.0",
            "_view_name": "LayoutView",
            "align_content": null,
            "align_items": null,
            "align_self": null,
            "border": null,
            "bottom": null,
            "display": null,
            "flex": null,
            "flex_flow": null,
            "grid_area": null,
            "grid_auto_columns": null,
            "grid_auto_flow": null,
            "grid_auto_rows": null,
            "grid_column": null,
            "grid_gap": null,
            "grid_row": null,
            "grid_template_areas": null,
            "grid_template_columns": null,
            "grid_template_rows": null,
            "height": null,
            "justify_content": null,
            "justify_items": null,
            "left": null,
            "margin": null,
            "max_height": null,
            "max_width": null,
            "min_height": null,
            "min_width": null,
            "object_fit": null,
            "object_position": null,
            "order": null,
            "overflow": null,
            "overflow_x": null,
            "overflow_y": null,
            "padding": null,
            "right": null,
            "top": null,
            "visibility": null,
            "width": null
          }
        },
        "c8ea4041dc904abab0159c6548f514dc": {
          "model_module": "@jupyter-widgets/base",
          "model_name": "LayoutModel",
          "model_module_version": "1.2.0",
          "state": {
            "_model_module": "@jupyter-widgets/base",
            "_model_module_version": "1.2.0",
            "_model_name": "LayoutModel",
            "_view_count": null,
            "_view_module": "@jupyter-widgets/base",
            "_view_module_version": "1.2.0",
            "_view_name": "LayoutView",
            "align_content": null,
            "align_items": null,
            "align_self": null,
            "border": null,
            "bottom": null,
            "display": null,
            "flex": null,
            "flex_flow": null,
            "grid_area": null,
            "grid_auto_columns": null,
            "grid_auto_flow": null,
            "grid_auto_rows": null,
            "grid_column": null,
            "grid_gap": null,
            "grid_row": null,
            "grid_template_areas": null,
            "grid_template_columns": null,
            "grid_template_rows": null,
            "height": null,
            "justify_content": null,
            "justify_items": null,
            "left": null,
            "margin": null,
            "max_height": null,
            "max_width": null,
            "min_height": null,
            "min_width": null,
            "object_fit": null,
            "object_position": null,
            "order": null,
            "overflow": null,
            "overflow_x": null,
            "overflow_y": null,
            "padding": null,
            "right": null,
            "top": null,
            "visibility": null,
            "width": null
          }
        },
        "1448a88c30fb4994abd6f17a515c6ace": {
          "model_module": "@jupyter-widgets/controls",
          "model_name": "DescriptionStyleModel",
          "model_module_version": "1.5.0",
          "state": {
            "_model_module": "@jupyter-widgets/controls",
            "_model_module_version": "1.5.0",
            "_model_name": "DescriptionStyleModel",
            "_view_count": null,
            "_view_module": "@jupyter-widgets/base",
            "_view_module_version": "1.2.0",
            "_view_name": "StyleView",
            "description_width": ""
          }
        },
        "6007941be127426fbc2dc5e6cd5494b3": {
          "model_module": "@jupyter-widgets/base",
          "model_name": "LayoutModel",
          "model_module_version": "1.2.0",
          "state": {
            "_model_module": "@jupyter-widgets/base",
            "_model_module_version": "1.2.0",
            "_model_name": "LayoutModel",
            "_view_count": null,
            "_view_module": "@jupyter-widgets/base",
            "_view_module_version": "1.2.0",
            "_view_name": "LayoutView",
            "align_content": null,
            "align_items": null,
            "align_self": null,
            "border": null,
            "bottom": null,
            "display": null,
            "flex": null,
            "flex_flow": null,
            "grid_area": null,
            "grid_auto_columns": null,
            "grid_auto_flow": null,
            "grid_auto_rows": null,
            "grid_column": null,
            "grid_gap": null,
            "grid_row": null,
            "grid_template_areas": null,
            "grid_template_columns": null,
            "grid_template_rows": null,
            "height": null,
            "justify_content": null,
            "justify_items": null,
            "left": null,
            "margin": null,
            "max_height": null,
            "max_width": null,
            "min_height": null,
            "min_width": null,
            "object_fit": null,
            "object_position": null,
            "order": null,
            "overflow": null,
            "overflow_x": null,
            "overflow_y": null,
            "padding": null,
            "right": null,
            "top": null,
            "visibility": null,
            "width": null
          }
        },
        "851a293a5b594918b9cbc97fb758c92d": {
          "model_module": "@jupyter-widgets/controls",
          "model_name": "ProgressStyleModel",
          "model_module_version": "1.5.0",
          "state": {
            "_model_module": "@jupyter-widgets/controls",
            "_model_module_version": "1.5.0",
            "_model_name": "ProgressStyleModel",
            "_view_count": null,
            "_view_module": "@jupyter-widgets/base",
            "_view_module_version": "1.2.0",
            "_view_name": "StyleView",
            "bar_color": null,
            "description_width": ""
          }
        },
        "80a9d438ef1b4ae99771ca54ed7c46ac": {
          "model_module": "@jupyter-widgets/base",
          "model_name": "LayoutModel",
          "model_module_version": "1.2.0",
          "state": {
            "_model_module": "@jupyter-widgets/base",
            "_model_module_version": "1.2.0",
            "_model_name": "LayoutModel",
            "_view_count": null,
            "_view_module": "@jupyter-widgets/base",
            "_view_module_version": "1.2.0",
            "_view_name": "LayoutView",
            "align_content": null,
            "align_items": null,
            "align_self": null,
            "border": null,
            "bottom": null,
            "display": null,
            "flex": null,
            "flex_flow": null,
            "grid_area": null,
            "grid_auto_columns": null,
            "grid_auto_flow": null,
            "grid_auto_rows": null,
            "grid_column": null,
            "grid_gap": null,
            "grid_row": null,
            "grid_template_areas": null,
            "grid_template_columns": null,
            "grid_template_rows": null,
            "height": null,
            "justify_content": null,
            "justify_items": null,
            "left": null,
            "margin": null,
            "max_height": null,
            "max_width": null,
            "min_height": null,
            "min_width": null,
            "object_fit": null,
            "object_position": null,
            "order": null,
            "overflow": null,
            "overflow_x": null,
            "overflow_y": null,
            "padding": null,
            "right": null,
            "top": null,
            "visibility": null,
            "width": null
          }
        },
        "9dcaf138c7b94867bb104e4ff026a709": {
          "model_module": "@jupyter-widgets/controls",
          "model_name": "DescriptionStyleModel",
          "model_module_version": "1.5.0",
          "state": {
            "_model_module": "@jupyter-widgets/controls",
            "_model_module_version": "1.5.0",
            "_model_name": "DescriptionStyleModel",
            "_view_count": null,
            "_view_module": "@jupyter-widgets/base",
            "_view_module_version": "1.2.0",
            "_view_name": "StyleView",
            "description_width": ""
          }
        },
        "e1248f738fe64ca08edce20460ad8001": {
          "model_module": "@jupyter-widgets/controls",
          "model_name": "HBoxModel",
          "model_module_version": "1.5.0",
          "state": {
            "_dom_classes": [],
            "_model_module": "@jupyter-widgets/controls",
            "_model_module_version": "1.5.0",
            "_model_name": "HBoxModel",
            "_view_count": null,
            "_view_module": "@jupyter-widgets/controls",
            "_view_module_version": "1.5.0",
            "_view_name": "HBoxView",
            "box_style": "",
            "children": [
              "IPY_MODEL_67e9b43e4bae4e38860867e8fe551e68",
              "IPY_MODEL_62182d4d85a34405b7a05e9fd7253d84",
              "IPY_MODEL_b5f106c5728a4813bc83db19cbfff438"
            ],
            "layout": "IPY_MODEL_9b9359ab9a7f4b2ca7286cedeb2736be"
          }
        },
        "67e9b43e4bae4e38860867e8fe551e68": {
          "model_module": "@jupyter-widgets/controls",
          "model_name": "HTMLModel",
          "model_module_version": "1.5.0",
          "state": {
            "_dom_classes": [],
            "_model_module": "@jupyter-widgets/controls",
            "_model_module_version": "1.5.0",
            "_model_name": "HTMLModel",
            "_view_count": null,
            "_view_module": "@jupyter-widgets/controls",
            "_view_module_version": "1.5.0",
            "_view_name": "HTMLView",
            "description": "",
            "description_tooltip": null,
            "layout": "IPY_MODEL_9e407c53ccfb42fbb57e07d5003fd438",
            "placeholder": "​",
            "style": "IPY_MODEL_14bf7aa56f2e4e40a469b3969b0bc692",
            "value": "100%"
          }
        },
        "62182d4d85a34405b7a05e9fd7253d84": {
          "model_module": "@jupyter-widgets/controls",
          "model_name": "FloatProgressModel",
          "model_module_version": "1.5.0",
          "state": {
            "_dom_classes": [],
            "_model_module": "@jupyter-widgets/controls",
            "_model_module_version": "1.5.0",
            "_model_name": "FloatProgressModel",
            "_view_count": null,
            "_view_module": "@jupyter-widgets/controls",
            "_view_module_version": "1.5.0",
            "_view_name": "ProgressView",
            "bar_style": "success",
            "description": "",
            "description_tooltip": null,
            "layout": "IPY_MODEL_5e67493a6e364041a9bc12409710726b",
            "max": 15,
            "min": 0,
            "orientation": "horizontal",
            "style": "IPY_MODEL_d7051485e2794b1fadb02400f7bb407a",
            "value": 15
          }
        },
        "b5f106c5728a4813bc83db19cbfff438": {
          "model_module": "@jupyter-widgets/controls",
          "model_name": "HTMLModel",
          "model_module_version": "1.5.0",
          "state": {
            "_dom_classes": [],
            "_model_module": "@jupyter-widgets/controls",
            "_model_module_version": "1.5.0",
            "_model_name": "HTMLModel",
            "_view_count": null,
            "_view_module": "@jupyter-widgets/controls",
            "_view_module_version": "1.5.0",
            "_view_name": "HTMLView",
            "description": "",
            "description_tooltip": null,
            "layout": "IPY_MODEL_ff34e026d71f4493a58be08aa3245963",
            "placeholder": "​",
            "style": "IPY_MODEL_4bcd14e228e34ea6b8441a131f900185",
            "value": " 15/15 [01:46&lt;00:00,  6.44s/it]"
          }
        },
        "9b9359ab9a7f4b2ca7286cedeb2736be": {
          "model_module": "@jupyter-widgets/base",
          "model_name": "LayoutModel",
          "model_module_version": "1.2.0",
          "state": {
            "_model_module": "@jupyter-widgets/base",
            "_model_module_version": "1.2.0",
            "_model_name": "LayoutModel",
            "_view_count": null,
            "_view_module": "@jupyter-widgets/base",
            "_view_module_version": "1.2.0",
            "_view_name": "LayoutView",
            "align_content": null,
            "align_items": null,
            "align_self": null,
            "border": null,
            "bottom": null,
            "display": null,
            "flex": null,
            "flex_flow": null,
            "grid_area": null,
            "grid_auto_columns": null,
            "grid_auto_flow": null,
            "grid_auto_rows": null,
            "grid_column": null,
            "grid_gap": null,
            "grid_row": null,
            "grid_template_areas": null,
            "grid_template_columns": null,
            "grid_template_rows": null,
            "height": null,
            "justify_content": null,
            "justify_items": null,
            "left": null,
            "margin": null,
            "max_height": null,
            "max_width": null,
            "min_height": null,
            "min_width": null,
            "object_fit": null,
            "object_position": null,
            "order": null,
            "overflow": null,
            "overflow_x": null,
            "overflow_y": null,
            "padding": null,
            "right": null,
            "top": null,
            "visibility": null,
            "width": null
          }
        },
        "9e407c53ccfb42fbb57e07d5003fd438": {
          "model_module": "@jupyter-widgets/base",
          "model_name": "LayoutModel",
          "model_module_version": "1.2.0",
          "state": {
            "_model_module": "@jupyter-widgets/base",
            "_model_module_version": "1.2.0",
            "_model_name": "LayoutModel",
            "_view_count": null,
            "_view_module": "@jupyter-widgets/base",
            "_view_module_version": "1.2.0",
            "_view_name": "LayoutView",
            "align_content": null,
            "align_items": null,
            "align_self": null,
            "border": null,
            "bottom": null,
            "display": null,
            "flex": null,
            "flex_flow": null,
            "grid_area": null,
            "grid_auto_columns": null,
            "grid_auto_flow": null,
            "grid_auto_rows": null,
            "grid_column": null,
            "grid_gap": null,
            "grid_row": null,
            "grid_template_areas": null,
            "grid_template_columns": null,
            "grid_template_rows": null,
            "height": null,
            "justify_content": null,
            "justify_items": null,
            "left": null,
            "margin": null,
            "max_height": null,
            "max_width": null,
            "min_height": null,
            "min_width": null,
            "object_fit": null,
            "object_position": null,
            "order": null,
            "overflow": null,
            "overflow_x": null,
            "overflow_y": null,
            "padding": null,
            "right": null,
            "top": null,
            "visibility": null,
            "width": null
          }
        },
        "14bf7aa56f2e4e40a469b3969b0bc692": {
          "model_module": "@jupyter-widgets/controls",
          "model_name": "DescriptionStyleModel",
          "model_module_version": "1.5.0",
          "state": {
            "_model_module": "@jupyter-widgets/controls",
            "_model_module_version": "1.5.0",
            "_model_name": "DescriptionStyleModel",
            "_view_count": null,
            "_view_module": "@jupyter-widgets/base",
            "_view_module_version": "1.2.0",
            "_view_name": "StyleView",
            "description_width": ""
          }
        },
        "5e67493a6e364041a9bc12409710726b": {
          "model_module": "@jupyter-widgets/base",
          "model_name": "LayoutModel",
          "model_module_version": "1.2.0",
          "state": {
            "_model_module": "@jupyter-widgets/base",
            "_model_module_version": "1.2.0",
            "_model_name": "LayoutModel",
            "_view_count": null,
            "_view_module": "@jupyter-widgets/base",
            "_view_module_version": "1.2.0",
            "_view_name": "LayoutView",
            "align_content": null,
            "align_items": null,
            "align_self": null,
            "border": null,
            "bottom": null,
            "display": null,
            "flex": null,
            "flex_flow": null,
            "grid_area": null,
            "grid_auto_columns": null,
            "grid_auto_flow": null,
            "grid_auto_rows": null,
            "grid_column": null,
            "grid_gap": null,
            "grid_row": null,
            "grid_template_areas": null,
            "grid_template_columns": null,
            "grid_template_rows": null,
            "height": null,
            "justify_content": null,
            "justify_items": null,
            "left": null,
            "margin": null,
            "max_height": null,
            "max_width": null,
            "min_height": null,
            "min_width": null,
            "object_fit": null,
            "object_position": null,
            "order": null,
            "overflow": null,
            "overflow_x": null,
            "overflow_y": null,
            "padding": null,
            "right": null,
            "top": null,
            "visibility": null,
            "width": null
          }
        },
        "d7051485e2794b1fadb02400f7bb407a": {
          "model_module": "@jupyter-widgets/controls",
          "model_name": "ProgressStyleModel",
          "model_module_version": "1.5.0",
          "state": {
            "_model_module": "@jupyter-widgets/controls",
            "_model_module_version": "1.5.0",
            "_model_name": "ProgressStyleModel",
            "_view_count": null,
            "_view_module": "@jupyter-widgets/base",
            "_view_module_version": "1.2.0",
            "_view_name": "StyleView",
            "bar_color": null,
            "description_width": ""
          }
        },
        "ff34e026d71f4493a58be08aa3245963": {
          "model_module": "@jupyter-widgets/base",
          "model_name": "LayoutModel",
          "model_module_version": "1.2.0",
          "state": {
            "_model_module": "@jupyter-widgets/base",
            "_model_module_version": "1.2.0",
            "_model_name": "LayoutModel",
            "_view_count": null,
            "_view_module": "@jupyter-widgets/base",
            "_view_module_version": "1.2.0",
            "_view_name": "LayoutView",
            "align_content": null,
            "align_items": null,
            "align_self": null,
            "border": null,
            "bottom": null,
            "display": null,
            "flex": null,
            "flex_flow": null,
            "grid_area": null,
            "grid_auto_columns": null,
            "grid_auto_flow": null,
            "grid_auto_rows": null,
            "grid_column": null,
            "grid_gap": null,
            "grid_row": null,
            "grid_template_areas": null,
            "grid_template_columns": null,
            "grid_template_rows": null,
            "height": null,
            "justify_content": null,
            "justify_items": null,
            "left": null,
            "margin": null,
            "max_height": null,
            "max_width": null,
            "min_height": null,
            "min_width": null,
            "object_fit": null,
            "object_position": null,
            "order": null,
            "overflow": null,
            "overflow_x": null,
            "overflow_y": null,
            "padding": null,
            "right": null,
            "top": null,
            "visibility": null,
            "width": null
          }
        },
        "4bcd14e228e34ea6b8441a131f900185": {
          "model_module": "@jupyter-widgets/controls",
          "model_name": "DescriptionStyleModel",
          "model_module_version": "1.5.0",
          "state": {
            "_model_module": "@jupyter-widgets/controls",
            "_model_module_version": "1.5.0",
            "_model_name": "DescriptionStyleModel",
            "_view_count": null,
            "_view_module": "@jupyter-widgets/base",
            "_view_module_version": "1.2.0",
            "_view_name": "StyleView",
            "description_width": ""
          }
        },
        "e69e56f342524368a4c0f3797ca8f627": {
          "model_module": "@jupyter-widgets/controls",
          "model_name": "HBoxModel",
          "model_module_version": "1.5.0",
          "state": {
            "_dom_classes": [],
            "_model_module": "@jupyter-widgets/controls",
            "_model_module_version": "1.5.0",
            "_model_name": "HBoxModel",
            "_view_count": null,
            "_view_module": "@jupyter-widgets/controls",
            "_view_module_version": "1.5.0",
            "_view_name": "HBoxView",
            "box_style": "",
            "children": [
              "IPY_MODEL_40d58e253ea949e784662bab468fecfa",
              "IPY_MODEL_4230eebb8ebc4c709109955671cee86c",
              "IPY_MODEL_a34b0feeaaee4648a2b24437c88c995d"
            ],
            "layout": "IPY_MODEL_6797be32c5cc4699a7de3f7520de42da"
          }
        },
        "40d58e253ea949e784662bab468fecfa": {
          "model_module": "@jupyter-widgets/controls",
          "model_name": "HTMLModel",
          "model_module_version": "1.5.0",
          "state": {
            "_dom_classes": [],
            "_model_module": "@jupyter-widgets/controls",
            "_model_module_version": "1.5.0",
            "_model_name": "HTMLModel",
            "_view_count": null,
            "_view_module": "@jupyter-widgets/controls",
            "_view_module_version": "1.5.0",
            "_view_name": "HTMLView",
            "description": "",
            "description_tooltip": null,
            "layout": "IPY_MODEL_aa63f1e80ebd4d7e8782fc7f7906d00e",
            "placeholder": "​",
            "style": "IPY_MODEL_1d9ca983de8048a6baf78595eb0e47ff",
            "value": "100%"
          }
        },
        "4230eebb8ebc4c709109955671cee86c": {
          "model_module": "@jupyter-widgets/controls",
          "model_name": "FloatProgressModel",
          "model_module_version": "1.5.0",
          "state": {
            "_dom_classes": [],
            "_model_module": "@jupyter-widgets/controls",
            "_model_module_version": "1.5.0",
            "_model_name": "FloatProgressModel",
            "_view_count": null,
            "_view_module": "@jupyter-widgets/controls",
            "_view_module_version": "1.5.0",
            "_view_name": "ProgressView",
            "bar_style": "success",
            "description": "",
            "description_tooltip": null,
            "layout": "IPY_MODEL_e0ea433f29d34f5bbd7027784eaa89e2",
            "max": 15,
            "min": 0,
            "orientation": "horizontal",
            "style": "IPY_MODEL_490a65feb2d3487d9c3ce40104c352da",
            "value": 15
          }
        },
        "a34b0feeaaee4648a2b24437c88c995d": {
          "model_module": "@jupyter-widgets/controls",
          "model_name": "HTMLModel",
          "model_module_version": "1.5.0",
          "state": {
            "_dom_classes": [],
            "_model_module": "@jupyter-widgets/controls",
            "_model_module_version": "1.5.0",
            "_model_name": "HTMLModel",
            "_view_count": null,
            "_view_module": "@jupyter-widgets/controls",
            "_view_module_version": "1.5.0",
            "_view_name": "HTMLView",
            "description": "",
            "description_tooltip": null,
            "layout": "IPY_MODEL_ed4f3311f8c747ec89e97a343cfd0dd0",
            "placeholder": "​",
            "style": "IPY_MODEL_c857b6d92b644fcab3e4f2a9e065294d",
            "value": " 15/15 [01:47&lt;00:00,  6.84s/it]"
          }
        },
        "6797be32c5cc4699a7de3f7520de42da": {
          "model_module": "@jupyter-widgets/base",
          "model_name": "LayoutModel",
          "model_module_version": "1.2.0",
          "state": {
            "_model_module": "@jupyter-widgets/base",
            "_model_module_version": "1.2.0",
            "_model_name": "LayoutModel",
            "_view_count": null,
            "_view_module": "@jupyter-widgets/base",
            "_view_module_version": "1.2.0",
            "_view_name": "LayoutView",
            "align_content": null,
            "align_items": null,
            "align_self": null,
            "border": null,
            "bottom": null,
            "display": null,
            "flex": null,
            "flex_flow": null,
            "grid_area": null,
            "grid_auto_columns": null,
            "grid_auto_flow": null,
            "grid_auto_rows": null,
            "grid_column": null,
            "grid_gap": null,
            "grid_row": null,
            "grid_template_areas": null,
            "grid_template_columns": null,
            "grid_template_rows": null,
            "height": null,
            "justify_content": null,
            "justify_items": null,
            "left": null,
            "margin": null,
            "max_height": null,
            "max_width": null,
            "min_height": null,
            "min_width": null,
            "object_fit": null,
            "object_position": null,
            "order": null,
            "overflow": null,
            "overflow_x": null,
            "overflow_y": null,
            "padding": null,
            "right": null,
            "top": null,
            "visibility": null,
            "width": null
          }
        },
        "aa63f1e80ebd4d7e8782fc7f7906d00e": {
          "model_module": "@jupyter-widgets/base",
          "model_name": "LayoutModel",
          "model_module_version": "1.2.0",
          "state": {
            "_model_module": "@jupyter-widgets/base",
            "_model_module_version": "1.2.0",
            "_model_name": "LayoutModel",
            "_view_count": null,
            "_view_module": "@jupyter-widgets/base",
            "_view_module_version": "1.2.0",
            "_view_name": "LayoutView",
            "align_content": null,
            "align_items": null,
            "align_self": null,
            "border": null,
            "bottom": null,
            "display": null,
            "flex": null,
            "flex_flow": null,
            "grid_area": null,
            "grid_auto_columns": null,
            "grid_auto_flow": null,
            "grid_auto_rows": null,
            "grid_column": null,
            "grid_gap": null,
            "grid_row": null,
            "grid_template_areas": null,
            "grid_template_columns": null,
            "grid_template_rows": null,
            "height": null,
            "justify_content": null,
            "justify_items": null,
            "left": null,
            "margin": null,
            "max_height": null,
            "max_width": null,
            "min_height": null,
            "min_width": null,
            "object_fit": null,
            "object_position": null,
            "order": null,
            "overflow": null,
            "overflow_x": null,
            "overflow_y": null,
            "padding": null,
            "right": null,
            "top": null,
            "visibility": null,
            "width": null
          }
        },
        "1d9ca983de8048a6baf78595eb0e47ff": {
          "model_module": "@jupyter-widgets/controls",
          "model_name": "DescriptionStyleModel",
          "model_module_version": "1.5.0",
          "state": {
            "_model_module": "@jupyter-widgets/controls",
            "_model_module_version": "1.5.0",
            "_model_name": "DescriptionStyleModel",
            "_view_count": null,
            "_view_module": "@jupyter-widgets/base",
            "_view_module_version": "1.2.0",
            "_view_name": "StyleView",
            "description_width": ""
          }
        },
        "e0ea433f29d34f5bbd7027784eaa89e2": {
          "model_module": "@jupyter-widgets/base",
          "model_name": "LayoutModel",
          "model_module_version": "1.2.0",
          "state": {
            "_model_module": "@jupyter-widgets/base",
            "_model_module_version": "1.2.0",
            "_model_name": "LayoutModel",
            "_view_count": null,
            "_view_module": "@jupyter-widgets/base",
            "_view_module_version": "1.2.0",
            "_view_name": "LayoutView",
            "align_content": null,
            "align_items": null,
            "align_self": null,
            "border": null,
            "bottom": null,
            "display": null,
            "flex": null,
            "flex_flow": null,
            "grid_area": null,
            "grid_auto_columns": null,
            "grid_auto_flow": null,
            "grid_auto_rows": null,
            "grid_column": null,
            "grid_gap": null,
            "grid_row": null,
            "grid_template_areas": null,
            "grid_template_columns": null,
            "grid_template_rows": null,
            "height": null,
            "justify_content": null,
            "justify_items": null,
            "left": null,
            "margin": null,
            "max_height": null,
            "max_width": null,
            "min_height": null,
            "min_width": null,
            "object_fit": null,
            "object_position": null,
            "order": null,
            "overflow": null,
            "overflow_x": null,
            "overflow_y": null,
            "padding": null,
            "right": null,
            "top": null,
            "visibility": null,
            "width": null
          }
        },
        "490a65feb2d3487d9c3ce40104c352da": {
          "model_module": "@jupyter-widgets/controls",
          "model_name": "ProgressStyleModel",
          "model_module_version": "1.5.0",
          "state": {
            "_model_module": "@jupyter-widgets/controls",
            "_model_module_version": "1.5.0",
            "_model_name": "ProgressStyleModel",
            "_view_count": null,
            "_view_module": "@jupyter-widgets/base",
            "_view_module_version": "1.2.0",
            "_view_name": "StyleView",
            "bar_color": null,
            "description_width": ""
          }
        },
        "ed4f3311f8c747ec89e97a343cfd0dd0": {
          "model_module": "@jupyter-widgets/base",
          "model_name": "LayoutModel",
          "model_module_version": "1.2.0",
          "state": {
            "_model_module": "@jupyter-widgets/base",
            "_model_module_version": "1.2.0",
            "_model_name": "LayoutModel",
            "_view_count": null,
            "_view_module": "@jupyter-widgets/base",
            "_view_module_version": "1.2.0",
            "_view_name": "LayoutView",
            "align_content": null,
            "align_items": null,
            "align_self": null,
            "border": null,
            "bottom": null,
            "display": null,
            "flex": null,
            "flex_flow": null,
            "grid_area": null,
            "grid_auto_columns": null,
            "grid_auto_flow": null,
            "grid_auto_rows": null,
            "grid_column": null,
            "grid_gap": null,
            "grid_row": null,
            "grid_template_areas": null,
            "grid_template_columns": null,
            "grid_template_rows": null,
            "height": null,
            "justify_content": null,
            "justify_items": null,
            "left": null,
            "margin": null,
            "max_height": null,
            "max_width": null,
            "min_height": null,
            "min_width": null,
            "object_fit": null,
            "object_position": null,
            "order": null,
            "overflow": null,
            "overflow_x": null,
            "overflow_y": null,
            "padding": null,
            "right": null,
            "top": null,
            "visibility": null,
            "width": null
          }
        },
        "c857b6d92b644fcab3e4f2a9e065294d": {
          "model_module": "@jupyter-widgets/controls",
          "model_name": "DescriptionStyleModel",
          "model_module_version": "1.5.0",
          "state": {
            "_model_module": "@jupyter-widgets/controls",
            "_model_module_version": "1.5.0",
            "_model_name": "DescriptionStyleModel",
            "_view_count": null,
            "_view_module": "@jupyter-widgets/base",
            "_view_module_version": "1.2.0",
            "_view_name": "StyleView",
            "description_width": ""
          }
        },
        "6e2578636ccb4c27978f7c54c103f9f0": {
          "model_module": "@jupyter-widgets/controls",
          "model_name": "HBoxModel",
          "model_module_version": "1.5.0",
          "state": {
            "_dom_classes": [],
            "_model_module": "@jupyter-widgets/controls",
            "_model_module_version": "1.5.0",
            "_model_name": "HBoxModel",
            "_view_count": null,
            "_view_module": "@jupyter-widgets/controls",
            "_view_module_version": "1.5.0",
            "_view_name": "HBoxView",
            "box_style": "",
            "children": [
              "IPY_MODEL_b09514d5ddb84941a2427c57f24a02c2",
              "IPY_MODEL_93bd24a51b784153884f06c67c45ac0c",
              "IPY_MODEL_19b66f4d9ace4250bf854e9dfa550005"
            ],
            "layout": "IPY_MODEL_20499fc5ceb742bd959ce3d23f36469e"
          }
        },
        "b09514d5ddb84941a2427c57f24a02c2": {
          "model_module": "@jupyter-widgets/controls",
          "model_name": "HTMLModel",
          "model_module_version": "1.5.0",
          "state": {
            "_dom_classes": [],
            "_model_module": "@jupyter-widgets/controls",
            "_model_module_version": "1.5.0",
            "_model_name": "HTMLModel",
            "_view_count": null,
            "_view_module": "@jupyter-widgets/controls",
            "_view_module_version": "1.5.0",
            "_view_name": "HTMLView",
            "description": "",
            "description_tooltip": null,
            "layout": "IPY_MODEL_45568a847fe5470b9f3a6a197f8702c1",
            "placeholder": "​",
            "style": "IPY_MODEL_32177a252f37414f990cef040cbcade5",
            "value": "100%"
          }
        },
        "93bd24a51b784153884f06c67c45ac0c": {
          "model_module": "@jupyter-widgets/controls",
          "model_name": "FloatProgressModel",
          "model_module_version": "1.5.0",
          "state": {
            "_dom_classes": [],
            "_model_module": "@jupyter-widgets/controls",
            "_model_module_version": "1.5.0",
            "_model_name": "FloatProgressModel",
            "_view_count": null,
            "_view_module": "@jupyter-widgets/controls",
            "_view_module_version": "1.5.0",
            "_view_name": "ProgressView",
            "bar_style": "success",
            "description": "",
            "description_tooltip": null,
            "layout": "IPY_MODEL_5c5f68ab4ed44e53adaf2e0cabc59ac0",
            "max": 100,
            "min": 0,
            "orientation": "horizontal",
            "style": "IPY_MODEL_33f28743975c4ac099525f591e390cab",
            "value": 100
          }
        },
        "19b66f4d9ace4250bf854e9dfa550005": {
          "model_module": "@jupyter-widgets/controls",
          "model_name": "HTMLModel",
          "model_module_version": "1.5.0",
          "state": {
            "_dom_classes": [],
            "_model_module": "@jupyter-widgets/controls",
            "_model_module_version": "1.5.0",
            "_model_name": "HTMLModel",
            "_view_count": null,
            "_view_module": "@jupyter-widgets/controls",
            "_view_module_version": "1.5.0",
            "_view_name": "HTMLView",
            "description": "",
            "description_tooltip": null,
            "layout": "IPY_MODEL_da4f701a500741debf7f2922eacfdd04",
            "placeholder": "​",
            "style": "IPY_MODEL_842b7ca56b0d4c96af2374e5ad5764e6",
            "value": " 100/100 [10:44&lt;00:00,  6.20s/it]"
          }
        },
        "20499fc5ceb742bd959ce3d23f36469e": {
          "model_module": "@jupyter-widgets/base",
          "model_name": "LayoutModel",
          "model_module_version": "1.2.0",
          "state": {
            "_model_module": "@jupyter-widgets/base",
            "_model_module_version": "1.2.0",
            "_model_name": "LayoutModel",
            "_view_count": null,
            "_view_module": "@jupyter-widgets/base",
            "_view_module_version": "1.2.0",
            "_view_name": "LayoutView",
            "align_content": null,
            "align_items": null,
            "align_self": null,
            "border": null,
            "bottom": null,
            "display": null,
            "flex": null,
            "flex_flow": null,
            "grid_area": null,
            "grid_auto_columns": null,
            "grid_auto_flow": null,
            "grid_auto_rows": null,
            "grid_column": null,
            "grid_gap": null,
            "grid_row": null,
            "grid_template_areas": null,
            "grid_template_columns": null,
            "grid_template_rows": null,
            "height": null,
            "justify_content": null,
            "justify_items": null,
            "left": null,
            "margin": null,
            "max_height": null,
            "max_width": null,
            "min_height": null,
            "min_width": null,
            "object_fit": null,
            "object_position": null,
            "order": null,
            "overflow": null,
            "overflow_x": null,
            "overflow_y": null,
            "padding": null,
            "right": null,
            "top": null,
            "visibility": null,
            "width": null
          }
        },
        "45568a847fe5470b9f3a6a197f8702c1": {
          "model_module": "@jupyter-widgets/base",
          "model_name": "LayoutModel",
          "model_module_version": "1.2.0",
          "state": {
            "_model_module": "@jupyter-widgets/base",
            "_model_module_version": "1.2.0",
            "_model_name": "LayoutModel",
            "_view_count": null,
            "_view_module": "@jupyter-widgets/base",
            "_view_module_version": "1.2.0",
            "_view_name": "LayoutView",
            "align_content": null,
            "align_items": null,
            "align_self": null,
            "border": null,
            "bottom": null,
            "display": null,
            "flex": null,
            "flex_flow": null,
            "grid_area": null,
            "grid_auto_columns": null,
            "grid_auto_flow": null,
            "grid_auto_rows": null,
            "grid_column": null,
            "grid_gap": null,
            "grid_row": null,
            "grid_template_areas": null,
            "grid_template_columns": null,
            "grid_template_rows": null,
            "height": null,
            "justify_content": null,
            "justify_items": null,
            "left": null,
            "margin": null,
            "max_height": null,
            "max_width": null,
            "min_height": null,
            "min_width": null,
            "object_fit": null,
            "object_position": null,
            "order": null,
            "overflow": null,
            "overflow_x": null,
            "overflow_y": null,
            "padding": null,
            "right": null,
            "top": null,
            "visibility": null,
            "width": null
          }
        },
        "32177a252f37414f990cef040cbcade5": {
          "model_module": "@jupyter-widgets/controls",
          "model_name": "DescriptionStyleModel",
          "model_module_version": "1.5.0",
          "state": {
            "_model_module": "@jupyter-widgets/controls",
            "_model_module_version": "1.5.0",
            "_model_name": "DescriptionStyleModel",
            "_view_count": null,
            "_view_module": "@jupyter-widgets/base",
            "_view_module_version": "1.2.0",
            "_view_name": "StyleView",
            "description_width": ""
          }
        },
        "5c5f68ab4ed44e53adaf2e0cabc59ac0": {
          "model_module": "@jupyter-widgets/base",
          "model_name": "LayoutModel",
          "model_module_version": "1.2.0",
          "state": {
            "_model_module": "@jupyter-widgets/base",
            "_model_module_version": "1.2.0",
            "_model_name": "LayoutModel",
            "_view_count": null,
            "_view_module": "@jupyter-widgets/base",
            "_view_module_version": "1.2.0",
            "_view_name": "LayoutView",
            "align_content": null,
            "align_items": null,
            "align_self": null,
            "border": null,
            "bottom": null,
            "display": null,
            "flex": null,
            "flex_flow": null,
            "grid_area": null,
            "grid_auto_columns": null,
            "grid_auto_flow": null,
            "grid_auto_rows": null,
            "grid_column": null,
            "grid_gap": null,
            "grid_row": null,
            "grid_template_areas": null,
            "grid_template_columns": null,
            "grid_template_rows": null,
            "height": null,
            "justify_content": null,
            "justify_items": null,
            "left": null,
            "margin": null,
            "max_height": null,
            "max_width": null,
            "min_height": null,
            "min_width": null,
            "object_fit": null,
            "object_position": null,
            "order": null,
            "overflow": null,
            "overflow_x": null,
            "overflow_y": null,
            "padding": null,
            "right": null,
            "top": null,
            "visibility": null,
            "width": null
          }
        },
        "33f28743975c4ac099525f591e390cab": {
          "model_module": "@jupyter-widgets/controls",
          "model_name": "ProgressStyleModel",
          "model_module_version": "1.5.0",
          "state": {
            "_model_module": "@jupyter-widgets/controls",
            "_model_module_version": "1.5.0",
            "_model_name": "ProgressStyleModel",
            "_view_count": null,
            "_view_module": "@jupyter-widgets/base",
            "_view_module_version": "1.2.0",
            "_view_name": "StyleView",
            "bar_color": null,
            "description_width": ""
          }
        },
        "da4f701a500741debf7f2922eacfdd04": {
          "model_module": "@jupyter-widgets/base",
          "model_name": "LayoutModel",
          "model_module_version": "1.2.0",
          "state": {
            "_model_module": "@jupyter-widgets/base",
            "_model_module_version": "1.2.0",
            "_model_name": "LayoutModel",
            "_view_count": null,
            "_view_module": "@jupyter-widgets/base",
            "_view_module_version": "1.2.0",
            "_view_name": "LayoutView",
            "align_content": null,
            "align_items": null,
            "align_self": null,
            "border": null,
            "bottom": null,
            "display": null,
            "flex": null,
            "flex_flow": null,
            "grid_area": null,
            "grid_auto_columns": null,
            "grid_auto_flow": null,
            "grid_auto_rows": null,
            "grid_column": null,
            "grid_gap": null,
            "grid_row": null,
            "grid_template_areas": null,
            "grid_template_columns": null,
            "grid_template_rows": null,
            "height": null,
            "justify_content": null,
            "justify_items": null,
            "left": null,
            "margin": null,
            "max_height": null,
            "max_width": null,
            "min_height": null,
            "min_width": null,
            "object_fit": null,
            "object_position": null,
            "order": null,
            "overflow": null,
            "overflow_x": null,
            "overflow_y": null,
            "padding": null,
            "right": null,
            "top": null,
            "visibility": null,
            "width": null
          }
        },
        "842b7ca56b0d4c96af2374e5ad5764e6": {
          "model_module": "@jupyter-widgets/controls",
          "model_name": "DescriptionStyleModel",
          "model_module_version": "1.5.0",
          "state": {
            "_model_module": "@jupyter-widgets/controls",
            "_model_module_version": "1.5.0",
            "_model_name": "DescriptionStyleModel",
            "_view_count": null,
            "_view_module": "@jupyter-widgets/base",
            "_view_module_version": "1.2.0",
            "_view_name": "StyleView",
            "description_width": ""
          }
        }
      }
    },
    "gpuClass": "standard"
  },
  "nbformat": 4,
  "nbformat_minor": 0
}